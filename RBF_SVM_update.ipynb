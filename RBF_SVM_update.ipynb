{
 "cells": [
  {
   "cell_type": "code",
   "execution_count": 1,
   "id": "e81829d4",
   "metadata": {},
   "outputs": [],
   "source": [
    "from __future__ import print_function\n",
    "import time\n",
    "import numpy as np\n",
    "import pandas as pd\n",
    "from sklearn.decomposition import PCA\n",
    "from sklearn.manifold import TSNE\n",
    "from sklearn.naive_bayes import GaussianNB\n",
    "%matplotlib inline\n",
    "import matplotlib.pyplot as plt\n",
    "from mpl_toolkits.mplot3d import Axes3D\n",
    "import seaborn as sns\n",
    "from sklearn.cluster import KMeans\n",
    "from sklearn import preprocessing\n",
    "from numpy import asarray\n",
    "from sklearn.preprocessing import MinMaxScaler\n",
    "from sklearn.preprocessing import scale,RobustScaler,StandardScaler, MinMaxScaler\n",
    "from sklearn.cluster import KMeans\n",
    "from matplotlib import cm\n",
    "from sklearn.manifold import TSNE\n",
    "from sklearn.datasets import make_blobs\n",
    "import sklearn.metrics as metrics\n",
    "import sklearn.metrics as metrics\n",
    "from sklearn.metrics import silhouette_samples, silhouette_score\n",
    "from sklearn.model_selection import ParameterGrid\n",
    "from sklearn.svm import SVC\n",
    "import matplotlib.pyplot as plt\n",
    "from sklearn.datasets import make_classification\n",
    "from sklearn.metrics import confusion_matrix, ConfusionMatrixDisplay\n",
    "from sklearn.model_selection import train_test_split\n",
    "from sklearn.metrics import plot_confusion_matrix, accuracy_score"
   ]
  },
  {
   "cell_type": "code",
   "execution_count": 2,
   "id": "94152362",
   "metadata": {},
   "outputs": [
    {
     "data": {
      "text/html": [
       "<div>\n",
       "<style scoped>\n",
       "    .dataframe tbody tr th:only-of-type {\n",
       "        vertical-align: middle;\n",
       "    }\n",
       "\n",
       "    .dataframe tbody tr th {\n",
       "        vertical-align: top;\n",
       "    }\n",
       "\n",
       "    .dataframe thead th {\n",
       "        text-align: right;\n",
       "    }\n",
       "</style>\n",
       "<table border=\"1\" class=\"dataframe\">\n",
       "  <thead>\n",
       "    <tr style=\"text-align: right;\">\n",
       "      <th></th>\n",
       "      <th>title</th>\n",
       "      <th>runtime</th>\n",
       "      <th>imdb_score</th>\n",
       "      <th>imdb_votes</th>\n",
       "      <th>user_review_count</th>\n",
       "      <th>critic_review_count</th>\n",
       "      <th>critic_overall_score</th>\n",
       "      <th>critic_positive_score</th>\n",
       "      <th>critic_mixed_score</th>\n",
       "      <th>critic_negative_score</th>\n",
       "      <th>user_overall_score</th>\n",
       "      <th>user_positive_score</th>\n",
       "      <th>user_mixed_score</th>\n",
       "      <th>user_negative_score</th>\n",
       "      <th>#_of_nominations</th>\n",
       "      <th>#_of_wins</th>\n",
       "    </tr>\n",
       "  </thead>\n",
       "  <tbody>\n",
       "    <tr>\n",
       "      <th>0</th>\n",
       "      <td>10</td>\n",
       "      <td>122.0</td>\n",
       "      <td>6.1</td>\n",
       "      <td>17623.0</td>\n",
       "      <td>82.0</td>\n",
       "      <td>51.0</td>\n",
       "      <td>68.0</td>\n",
       "      <td>4.0</td>\n",
       "      <td>1.0</td>\n",
       "      <td>2.0</td>\n",
       "      <td>5.8</td>\n",
       "      <td>3.0</td>\n",
       "      <td>2.0</td>\n",
       "      <td>1.0</td>\n",
       "      <td>2</td>\n",
       "      <td>0</td>\n",
       "    </tr>\n",
       "    <tr>\n",
       "      <th>1</th>\n",
       "      <td>12</td>\n",
       "      <td>159.0</td>\n",
       "      <td>7.6</td>\n",
       "      <td>14601.0</td>\n",
       "      <td>42.0</td>\n",
       "      <td>71.0</td>\n",
       "      <td>72.0</td>\n",
       "      <td>12.0</td>\n",
       "      <td>5.0</td>\n",
       "      <td>0.0</td>\n",
       "      <td>7.4</td>\n",
       "      <td>17.0</td>\n",
       "      <td>1.0</td>\n",
       "      <td>3.0</td>\n",
       "      <td>1</td>\n",
       "      <td>0</td>\n",
       "    </tr>\n",
       "    <tr>\n",
       "      <th>2</th>\n",
       "      <td>12 Angry Men</td>\n",
       "      <td>96.0</td>\n",
       "      <td>9.0</td>\n",
       "      <td>759612.0</td>\n",
       "      <td>1900.0</td>\n",
       "      <td>150.0</td>\n",
       "      <td>96.0</td>\n",
       "      <td>10.0</td>\n",
       "      <td>0.0</td>\n",
       "      <td>0.0</td>\n",
       "      <td>9.0</td>\n",
       "      <td>484.0</td>\n",
       "      <td>9.0</td>\n",
       "      <td>22.0</td>\n",
       "      <td>3</td>\n",
       "      <td>0</td>\n",
       "    </tr>\n",
       "    <tr>\n",
       "      <th>3</th>\n",
       "      <td>12 Monkeys</td>\n",
       "      <td>129.0</td>\n",
       "      <td>8.0</td>\n",
       "      <td>606901.0</td>\n",
       "      <td>722.0</td>\n",
       "      <td>197.0</td>\n",
       "      <td>74.0</td>\n",
       "      <td>16.0</td>\n",
       "      <td>4.0</td>\n",
       "      <td>0.0</td>\n",
       "      <td>8.7</td>\n",
       "      <td>453.0</td>\n",
       "      <td>30.0</td>\n",
       "      <td>12.0</td>\n",
       "      <td>2</td>\n",
       "      <td>0</td>\n",
       "    </tr>\n",
       "    <tr>\n",
       "      <th>4</th>\n",
       "      <td>127 Hours</td>\n",
       "      <td>94.0</td>\n",
       "      <td>7.6</td>\n",
       "      <td>369917.0</td>\n",
       "      <td>533.0</td>\n",
       "      <td>453.0</td>\n",
       "      <td>82.0</td>\n",
       "      <td>37.0</td>\n",
       "      <td>1.0</td>\n",
       "      <td>0.0</td>\n",
       "      <td>8.1</td>\n",
       "      <td>621.0</td>\n",
       "      <td>65.0</td>\n",
       "      <td>25.0</td>\n",
       "      <td>6</td>\n",
       "      <td>0</td>\n",
       "    </tr>\n",
       "  </tbody>\n",
       "</table>\n",
       "</div>"
      ],
      "text/plain": [
       "          title  runtime  imdb_score  imdb_votes  user_review_count  \\\n",
       "0            10    122.0         6.1     17623.0               82.0   \n",
       "1            12    159.0         7.6     14601.0               42.0   \n",
       "2  12 Angry Men     96.0         9.0    759612.0             1900.0   \n",
       "3    12 Monkeys    129.0         8.0    606901.0              722.0   \n",
       "4     127 Hours     94.0         7.6    369917.0              533.0   \n",
       "\n",
       "   critic_review_count  critic_overall_score  critic_positive_score  \\\n",
       "0                 51.0                  68.0                    4.0   \n",
       "1                 71.0                  72.0                   12.0   \n",
       "2                150.0                  96.0                   10.0   \n",
       "3                197.0                  74.0                   16.0   \n",
       "4                453.0                  82.0                   37.0   \n",
       "\n",
       "   critic_mixed_score  critic_negative_score  user_overall_score  \\\n",
       "0                 1.0                    2.0                 5.8   \n",
       "1                 5.0                    0.0                 7.4   \n",
       "2                 0.0                    0.0                 9.0   \n",
       "3                 4.0                    0.0                 8.7   \n",
       "4                 1.0                    0.0                 8.1   \n",
       "\n",
       "   user_positive_score  user_mixed_score  user_negative_score  \\\n",
       "0                  3.0               2.0                  1.0   \n",
       "1                 17.0               1.0                  3.0   \n",
       "2                484.0               9.0                 22.0   \n",
       "3                453.0              30.0                 12.0   \n",
       "4                621.0              65.0                 25.0   \n",
       "\n",
       "   #_of_nominations  #_of_wins  \n",
       "0                 2          0  \n",
       "1                 1          0  \n",
       "2                 3          0  \n",
       "3                 2          0  \n",
       "4                 6          0  "
      ]
     },
     "execution_count": 2,
     "metadata": {},
     "output_type": "execute_result"
    }
   ],
   "source": [
    "raw = pd.read_csv('cleaned.csv')\n",
    "raw.head()"
   ]
  },
  {
   "cell_type": "code",
   "execution_count": 3,
   "id": "54a97eaa",
   "metadata": {},
   "outputs": [],
   "source": [
    "train, test = train_test_split(raw, test_size=0.25)"
   ]
  },
  {
   "cell_type": "code",
   "execution_count": 4,
   "id": "4c277f79",
   "metadata": {},
   "outputs": [
    {
     "name": "stdout",
     "output_type": "stream",
     "text": [
      "Nominals:\n",
      " []\n"
     ]
    }
   ],
   "source": [
    "from sklearn import preprocessing\n",
    "le = preprocessing.LabelEncoder()\n",
    "titles = list(train['title'])\n",
    "le.fit(titles)\n",
    "encoded_titles = le.transform(titles)\n",
    "train['title'] = encoded_titles\n",
    "\n",
    "# example of a normalization\n",
    "from numpy import asarray\n",
    "from sklearn.preprocessing import MinMaxScaler\n",
    "columns = ['title','runtime', 'imdb_score', 'imdb_votes', 'user_review_count', 'critic_review_count','critic_overall_score','critic_positive_score','critic_mixed_score','critic_negative_score','user_overall_score','user_positive_score','user_mixed_score','user_negative_score','#_of_nominations','#_of_wins']\n",
    "\n",
    "# convert numerical-object to numericals\n",
    "for col in columns:\n",
    "    train[col] = train[col].replace('[^.0-9]', '', regex=True,).astype(float).fillna(0.0)\n",
    "\n",
    "    # clean textual classes\n",
    "for col in train.select_dtypes(include='object').columns:\n",
    "    train[col] = train[col].str.upper().replace('Z_','',regex=True).replace('[^A-Z]','',regex=True)\n",
    "        \n",
    "data_types = {f:t for f,t in zip(train.columns,train.dtypes)}\n",
    "\n",
    "# copy df\n",
    "df = train.copy()\n",
    "df = df.drop(labels=['title'],axis=1)\n",
    "df = df.drop(labels=['#_of_wins'],axis=1)\n",
    "\n",
    "data_meta = pd.DataFrame(df.nunique(),columns=['num'],index=None).sort_values('num').reset_index()\n",
    "data_meta.columns = ['name','num']\n",
    "data_meta['type'] = 'numerical'\n",
    "#print(data_meta)\n",
    "\n",
    "\n",
    "#data_meta.loc[(data_meta['num']<=15) & (~data_meta['name'].isin(['category','name','winner'])),'type']='categorical'\n",
    "data_meta.loc[data_meta['name'].isin(['category','name']),'type']='categorical'\n",
    "\n",
    "categorical_features = list(data_meta.loc[data_meta['type']=='categorical','name'])\n",
    "numerical_features = list(data_meta.loc[data_meta['type']=='numerical','name'])\n",
    "#print(numerical_features)\n",
    "\n",
    "\n",
    "# Standard Scaled \"mean normalisation\"\n",
    "scaler = StandardScaler()\n",
    "scaler.fit(df[numerical_features])\n",
    "#print(\"Feature Means:\\t\",[f\"{x:.2}\" for x in scaler.mean_])\n",
    "numerical_data = scaler.transform(df[numerical_features])\n",
    "numerical_data = pd.DataFrame(numerical_data,index=df.index,columns=numerical_features)\n",
    "numerical_data[:2]\n",
    "\n",
    "\n",
    "\n",
    "scaler = MinMaxScaler(feature_range=(0,1))\n",
    "scaler.fit(df[numerical_features])\n",
    "numerical_data = scaler.transform(df[numerical_features])\n",
    "numerical_data = pd.DataFrame(numerical_data,index=df.index,columns=numerical_features)\n",
    "numerical_data[:2]\n",
    "\n",
    "\n",
    "nominal_features = [c for c in categorical_features]\n",
    "print(\"Nominals:\\n\",nominal_features)\n",
    "\n",
    "nominal_data = list()\n",
    "for i,x in df[nominal_features].nunique().iteritems():\n",
    "    if x <= 2:\n",
    "        nominal_data.append(pd.get_dummies(df[[i]],drop_first=True))\n",
    "    elif x > 2:\n",
    "        nominal_data.append(pd.get_dummies(df[[i]],drop_first=False))\n",
    "        \n",
    "#nominal_data = pd.concat(nominal_data,axis=1)\n",
    "\n",
    "# transformed and scaled dataset\n",
    "Xy_scaled = pd.concat([numerical_data],axis=1)\n",
    "#print(f'Data min:max {Xy_scaled.min().min(),Xy_scaled.max().max()}')\n",
    "\n",
    "# original data\n",
    "Xy_original = df[numerical_features].copy()"
   ]
  },
  {
   "cell_type": "code",
   "execution_count": 5,
   "id": "7461e90a",
   "metadata": {},
   "outputs": [
    {
     "name": "stdout",
     "output_type": "stream",
     "text": [
      "Explained variation per principal component: [0.44140044 0.18407856]\n",
      "Cumulative variance explained by 2 principal components: 62.55%\n"
     ]
    }
   ],
   "source": [
    "#reducing dimension using PCA.\n",
    "#calculates the % of the data we still have of our original\n",
    "pca_2 = PCA(n_components=2)\n",
    "pca_2result=pca_2.fit_transform(Xy_scaled)\n",
    "print('Explained variation per principal component: {}'.format(pca_2.explained_variance_ratio_))\n",
    "print('Cumulative variance explained by 2 principal components: {:.2%}'.format(np.sum(pca_2.explained_variance_ratio_)))"
   ]
  },
  {
   "cell_type": "code",
   "execution_count": 6,
   "id": "295dc5a1",
   "metadata": {},
   "outputs": [],
   "source": [
    "# candidate values for our cluster\n",
    "candidate_values = [2,3,4,5,6]\n",
    "\n",
    "# instantiating ParameterGrid, pass number of clusters as input\n",
    "parameter_grid = ParameterGrid({'n_clusters': candidate_values})"
   ]
  },
  {
   "cell_type": "code",
   "execution_count": 7,
   "id": "aa18820f",
   "metadata": {},
   "outputs": [
    {
     "data": {
      "text/plain": [
       "(14,)"
      ]
     },
     "execution_count": 7,
     "metadata": {},
     "output_type": "execute_result"
    }
   ],
   "source": [
    "pred = test\n",
    "\n",
    "titles_pred = list(pred['title'])\n",
    "le.fit(titles_pred)\n",
    "titles_pred = le.transform(titles_pred)\n",
    "pred['title'] = titles_pred\n",
    "\n",
    "\n",
    "columns_pred = ['title','runtime', 'imdb_score', 'imdb_votes', 'user_review_count', 'critic_review_count','critic_overall_score','critic_positive_score','critic_mixed_score','critic_negative_score','user_overall_score','user_positive_score','user_mixed_score','user_negative_score','#_of_nominations','#_of_wins']\n",
    "\n",
    "\n",
    "    \n",
    "for col in columns_pred:\n",
    "    pred[col] = pred[col].replace('[^.0-9]', '', regex=True,).astype(float).fillna(0.0)\n",
    "\n",
    "    \n",
    "\n",
    "for col in pred.select_dtypes(include='object').columns:\n",
    "        pred[col] = pred[col].str.upper().replace('Z_','',regex=True).replace('[^A-Z]','',regex=True)\n",
    "\n",
    "dp = pred.copy()\n",
    "dp = dp.drop(labels=['title'],axis=1)\n",
    "dp = dp.drop(labels=['#_of_wins'],axis=1)\n",
    "\n",
    "#print(data_count)\n",
    "data_count_dp = pd.DataFrame(dp.nunique(),columns=['num'],index=None).sort_values('num').reset_index()\n",
    "data_count_dp.columns = ['name','num']\n",
    "data_count_dp['type'] = 'numerical'\n",
    "\n",
    "#data_count_dp.loc[data_count_dp['name'].isin(['category']),'type']='nominal'\n",
    "\n",
    "nominal_features_dp = list(data_count_dp.loc[data_count_dp['type']=='nominal','name'])\n",
    "numerical_features_dp = list(data_count_dp.loc[data_count_dp['type']=='numerical','name'])\n",
    "\n",
    "scaler_dp = StandardScaler()\n",
    "scaler_dp.fit(dp[numerical_features_dp])\n",
    "#print(\"Feature Means:\\t\",[f\"{x:.2}\" for x in scaler_dp.mean_])\n",
    "numerical_data_dp = scaler_dp.transform(dp[numerical_features_dp])\n",
    "numerical_data_dp = pd.DataFrame(numerical_data_dp,index=dp.index,columns=numerical_features_dp)\n",
    "numerical_data_dp[:2]\n",
    "\n",
    "scaler_dp = MinMaxScaler(feature_range=(0,1))\n",
    "scaler_dp.fit(dp[numerical_features_dp])\n",
    "numerical_data_dp = scaler_dp.transform(dp[numerical_features_dp])\n",
    "numerical_data_dp = pd.DataFrame(numerical_data_dp,index=dp.index,columns=numerical_features_dp)\n",
    "\n",
    "\n",
    "# transformed and scaled dataset\n",
    "Xy_scaled_dp = pd.concat([numerical_data_dp],axis=1)\n",
    "#print(f'Data min:max {Xy_scaled.min().min(),Xy_scaled.max().max()}')\n",
    "\n",
    "#print(Xy_scaled_dp.shape)\n",
    "# original data\n",
    "Xy_original_dp = dp[numerical_features_dp].copy()\n",
    "\n",
    "column_names_dp = Xy_scaled_dp.columns.values\n",
    "column_names_dp.shape"
   ]
  },
  {
   "cell_type": "code",
   "execution_count": 8,
   "id": "cd43dd12",
   "metadata": {},
   "outputs": [
    {
     "name": "stdout",
     "output_type": "stream",
     "text": [
      "Explained variation per principal component: [0.38283446 0.19595825]\n",
      "Cumulative variance explained by 2 principal components: 57.88%\n"
     ]
    }
   ],
   "source": [
    "#reducing dimension using PCA.\n",
    "#calculates the % of the data we still have of our original\n",
    "pca_3 = PCA(n_components=2)\n",
    "pca_3result=pca_2.fit_transform(Xy_scaled_dp)\n",
    "print('Explained variation per principal component: {}'.format(pca_2.explained_variance_ratio_))\n",
    "print('Cumulative variance explained by 2 principal components: {:.2%}'.format(np.sum(pca_2.explained_variance_ratio_)))"
   ]
  },
  {
   "cell_type": "code",
   "execution_count": 9,
   "id": "d7d2de3c",
   "metadata": {},
   "outputs": [],
   "source": [
    "\n",
    "train = train['#_of_wins']\n",
    "\n",
    "\n",
    "train2 = test['#_of_wins']\n",
    "\n",
    "X_train = pca_2result\n",
    "y_train = np.array(train)\n",
    "\n",
    "X_test = pca_3result\n",
    "y_test = np.array(train2)"
   ]
  },
  {
   "cell_type": "code",
   "execution_count": 18,
   "id": "1f46a90c",
   "metadata": {},
   "outputs": [],
   "source": [
    "y_train2=[]\n",
    "for i in range(len(y_train)):\n",
    "    if y_train[i]==0:\n",
    "        y_train2.append(0)\n",
    "    else:\n",
    "        y_train2.append(1)\n",
    "        \n",
    "        \n",
    "y_test2=[]\n",
    "for i in range(len(y_test)):\n",
    "    if y_test[i]==0:\n",
    "        y_test2.append(0)\n",
    "    else:\n",
    "        y_test2.append(1)\n"
   ]
  },
  {
   "cell_type": "code",
   "execution_count": 11,
   "id": "5837d9d5",
   "metadata": {},
   "outputs": [],
   "source": [
    "# Create the SVM\n",
    "svm = SVC(random_state=42, kernel='linear')"
   ]
  },
  {
   "cell_type": "code",
   "execution_count": 19,
   "id": "be737f50",
   "metadata": {},
   "outputs": [],
   "source": [
    "# Fit the data to the SVM classifier\n",
    "svm = svm.fit(X_train, y_train2)"
   ]
  },
  {
   "cell_type": "code",
   "execution_count": 20,
   "id": "a51a931e",
   "metadata": {},
   "outputs": [
    {
     "name": "stderr",
     "output_type": "stream",
     "text": [
      "C:\\Users\\kjcox\\anaconda3\\lib\\site-packages\\sklearn\\utils\\deprecation.py:87: FutureWarning: Function plot_confusion_matrix is deprecated; Function `plot_confusion_matrix` is deprecated in 1.0 and will be removed in 1.2. Use one of the class methods: ConfusionMatrixDisplay.from_predictions or ConfusionMatrixDisplay.from_estimator.\n",
      "  warnings.warn(msg, category=FutureWarning)\n"
     ]
    },
    {
     "data": {
      "image/png": "[encoded data removed]",
      "text/plain": [
       "<Figure size 432x288 with 2 Axes>"
      ]
     },
     "metadata": {
      "needs_background": "light"
     },
     "output_type": "display_data"
    }
   ],
   "source": [
    "# Evaluate by means of a confusion matrix\n",
    "matrix = plot_confusion_matrix(svm, X_test, y_test2,\n",
    "                                 cmap=plt.cm.Blues,\n",
    "                                 normalize='true')\n",
    "plt.title('Confusion matrix for linear SVM')\n",
    "plt.show(matrix)\n",
    "plt.show()"
   ]
  },
  {
   "cell_type": "code",
   "execution_count": 21,
   "id": "9f005b64",
   "metadata": {},
   "outputs": [],
   "source": [
    "# Generate predictions\n",
    "y_pred = svm.predict(X_test)"
   ]
  },
  {
   "cell_type": "code",
   "execution_count": 22,
   "id": "1d8b6063",
   "metadata": {},
   "outputs": [
    {
     "name": "stdout",
     "output_type": "stream",
     "text": [
      "Model accuracy: 0.5988023952095808\n"
     ]
    }
   ],
   "source": [
    "# Evaluate by means of accuracy\n",
    "accuracy = accuracy_score(y_test, y_pred)\n",
    "print(f'Model accuracy: {accuracy}')"
   ]
  },
  {
   "cell_type": "code",
   "execution_count": 27,
   "id": "20425965",
   "metadata": {},
   "outputs": [
    {
     "name": "stderr",
     "output_type": "stream",
     "text": [
      "C:\\Users\\kjcox\\anaconda3\\lib\\site-packages\\mlxtend\\plotting\\decision_regions.py:243: UserWarning: No contour levels were found within the data range.\n",
      "  ax.contour(xx, yy, Z, cset.levels,\n"
     ]
    },
    {
     "data": {
      "image/png": "[encoded data removed]",
      "text/plain": [
       "<Figure size 432x288 with 1 Axes>"
      ]
     },
     "metadata": {
      "needs_background": "light"
     },
     "output_type": "display_data"
    }
   ],
   "source": [
    "from mlxtend.plotting import plot_decision_regions\n",
    "# Plot decision boundary\n",
    "y_test2 = np.array(y_test2)\n",
    "plot_decision_regions(X_test, y_test2, clf=svm, legend=2)\n",
    "plt.show()"
   ]
  },
  {
   "cell_type": "code",
   "execution_count": null,
   "id": "6f160a6e",
   "metadata": {},
   "outputs": [],
   "source": []
  }
 ],
 "metadata": {
  "kernelspec": {
   "display_name": "Python 3",
   "language": "python",
   "name": "python3"
  },
  "language_info": {
   "codemirror_mode": {
    "name": "ipython",
    "version": 3
   },
   "file_extension": ".py",
   "mimetype": "text/x-python",
   "name": "python",
   "nbconvert_exporter": "python",
   "pygments_lexer": "ipython3",
   "version": "3.8.8"
  }
 },
 "nbformat": 4,
 "nbformat_minor": 5
}
