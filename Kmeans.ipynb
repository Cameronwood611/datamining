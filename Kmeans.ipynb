{
 "cells": [
  {
   "cell_type": "code",
   "execution_count": 1,
   "id": "160200d5",
   "metadata": {},
   "outputs": [],
   "source": [
    "from __future__ import print_function\n",
    "import time\n",
    "import numpy as np\n",
    "import pandas as pd\n",
    "from sklearn.decomposition import PCA\n",
    "from sklearn.manifold import TSNE\n",
    "%matplotlib inline\n",
    "import matplotlib.pyplot as plt\n",
    "from mpl_toolkits.mplot3d import Axes3D\n",
    "import seaborn as sns\n",
    "from sklearn.cluster import KMeans\n",
    "from sklearn import preprocessing\n",
    "from numpy import asarray\n",
    "from sklearn.preprocessing import MinMaxScaler\n",
    "from sklearn.preprocessing import scale,RobustScaler,StandardScaler, MinMaxScaler\n",
    "from sklearn.cluster import KMeans\n",
    "from matplotlib import cm\n",
    "from sklearn.manifold import TSNE\n",
    "from sklearn.datasets import make_blobs\n",
    "import sklearn.metrics as metrics\n",
    "import sklearn.metrics as metrics\n",
    "from sklearn.metrics import silhouette_samples, silhouette_score\n",
    "from sklearn.model_selection import ParameterGrid"
   ]
  },
  {
   "cell_type": "code",
   "execution_count": 2,
   "id": "d5da5c3f",
   "metadata": {},
   "outputs": [
    {
     "data": {
      "text/html": [
       "<div>\n",
       "<style scoped>\n",
       "    .dataframe tbody tr th:only-of-type {\n",
       "        vertical-align: middle;\n",
       "    }\n",
       "\n",
       "    .dataframe tbody tr th {\n",
       "        vertical-align: top;\n",
       "    }\n",
       "\n",
       "    .dataframe thead th {\n",
       "        text-align: right;\n",
       "    }\n",
       "</style>\n",
       "<table border=\"1\" class=\"dataframe\">\n",
       "  <thead>\n",
       "    <tr style=\"text-align: right;\">\n",
       "      <th></th>\n",
       "      <th>title</th>\n",
       "      <th>runtime</th>\n",
       "      <th>imdb_score</th>\n",
       "      <th>imdb_votes</th>\n",
       "      <th>user_review_count</th>\n",
       "      <th>critic_review_count</th>\n",
       "      <th>critic_overall_score</th>\n",
       "      <th>critic_positive_score</th>\n",
       "      <th>critic_mixed_score</th>\n",
       "      <th>critic_negative_score</th>\n",
       "      <th>user_overall_score</th>\n",
       "      <th>user_positive_score</th>\n",
       "      <th>user_mixed_score</th>\n",
       "      <th>user_negative_score</th>\n",
       "      <th>#_of_nominations</th>\n",
       "      <th>#_of_wins</th>\n",
       "    </tr>\n",
       "  </thead>\n",
       "  <tbody>\n",
       "    <tr>\n",
       "      <th>0</th>\n",
       "      <td>10</td>\n",
       "      <td>122.0</td>\n",
       "      <td>6.1</td>\n",
       "      <td>17623.0</td>\n",
       "      <td>82.0</td>\n",
       "      <td>51.0</td>\n",
       "      <td>68.0</td>\n",
       "      <td>4.0</td>\n",
       "      <td>1.0</td>\n",
       "      <td>2.0</td>\n",
       "      <td>5.8</td>\n",
       "      <td>3.0</td>\n",
       "      <td>2.0</td>\n",
       "      <td>1.0</td>\n",
       "      <td>2</td>\n",
       "      <td>0</td>\n",
       "    </tr>\n",
       "    <tr>\n",
       "      <th>1</th>\n",
       "      <td>12</td>\n",
       "      <td>159.0</td>\n",
       "      <td>7.6</td>\n",
       "      <td>14601.0</td>\n",
       "      <td>42.0</td>\n",
       "      <td>71.0</td>\n",
       "      <td>72.0</td>\n",
       "      <td>12.0</td>\n",
       "      <td>5.0</td>\n",
       "      <td>0.0</td>\n",
       "      <td>7.4</td>\n",
       "      <td>17.0</td>\n",
       "      <td>1.0</td>\n",
       "      <td>3.0</td>\n",
       "      <td>1</td>\n",
       "      <td>0</td>\n",
       "    </tr>\n",
       "    <tr>\n",
       "      <th>2</th>\n",
       "      <td>12 Angry Men</td>\n",
       "      <td>96.0</td>\n",
       "      <td>9.0</td>\n",
       "      <td>759612.0</td>\n",
       "      <td>1900.0</td>\n",
       "      <td>150.0</td>\n",
       "      <td>96.0</td>\n",
       "      <td>10.0</td>\n",
       "      <td>0.0</td>\n",
       "      <td>0.0</td>\n",
       "      <td>9.0</td>\n",
       "      <td>484.0</td>\n",
       "      <td>9.0</td>\n",
       "      <td>22.0</td>\n",
       "      <td>3</td>\n",
       "      <td>0</td>\n",
       "    </tr>\n",
       "    <tr>\n",
       "      <th>3</th>\n",
       "      <td>12 Monkeys</td>\n",
       "      <td>129.0</td>\n",
       "      <td>8.0</td>\n",
       "      <td>606901.0</td>\n",
       "      <td>722.0</td>\n",
       "      <td>197.0</td>\n",
       "      <td>74.0</td>\n",
       "      <td>16.0</td>\n",
       "      <td>4.0</td>\n",
       "      <td>0.0</td>\n",
       "      <td>8.7</td>\n",
       "      <td>453.0</td>\n",
       "      <td>30.0</td>\n",
       "      <td>12.0</td>\n",
       "      <td>2</td>\n",
       "      <td>0</td>\n",
       "    </tr>\n",
       "    <tr>\n",
       "      <th>4</th>\n",
       "      <td>127 Hours</td>\n",
       "      <td>94.0</td>\n",
       "      <td>7.6</td>\n",
       "      <td>369917.0</td>\n",
       "      <td>533.0</td>\n",
       "      <td>453.0</td>\n",
       "      <td>82.0</td>\n",
       "      <td>37.0</td>\n",
       "      <td>1.0</td>\n",
       "      <td>0.0</td>\n",
       "      <td>8.1</td>\n",
       "      <td>621.0</td>\n",
       "      <td>65.0</td>\n",
       "      <td>25.0</td>\n",
       "      <td>6</td>\n",
       "      <td>0</td>\n",
       "    </tr>\n",
       "  </tbody>\n",
       "</table>\n",
       "</div>"
      ],
      "text/plain": [
       "          title  runtime  imdb_score  imdb_votes  user_review_count  \\\n",
       "0            10    122.0         6.1     17623.0               82.0   \n",
       "1            12    159.0         7.6     14601.0               42.0   \n",
       "2  12 Angry Men     96.0         9.0    759612.0             1900.0   \n",
       "3    12 Monkeys    129.0         8.0    606901.0              722.0   \n",
       "4     127 Hours     94.0         7.6    369917.0              533.0   \n",
       "\n",
       "   critic_review_count  critic_overall_score  critic_positive_score  \\\n",
       "0                 51.0                  68.0                    4.0   \n",
       "1                 71.0                  72.0                   12.0   \n",
       "2                150.0                  96.0                   10.0   \n",
       "3                197.0                  74.0                   16.0   \n",
       "4                453.0                  82.0                   37.0   \n",
       "\n",
       "   critic_mixed_score  critic_negative_score  user_overall_score  \\\n",
       "0                 1.0                    2.0                 5.8   \n",
       "1                 5.0                    0.0                 7.4   \n",
       "2                 0.0                    0.0                 9.0   \n",
       "3                 4.0                    0.0                 8.7   \n",
       "4                 1.0                    0.0                 8.1   \n",
       "\n",
       "   user_positive_score  user_mixed_score  user_negative_score  \\\n",
       "0                  3.0               2.0                  1.0   \n",
       "1                 17.0               1.0                  3.0   \n",
       "2                484.0               9.0                 22.0   \n",
       "3                453.0              30.0                 12.0   \n",
       "4                621.0              65.0                 25.0   \n",
       "\n",
       "   #_of_nominations  #_of_wins  \n",
       "0                 2          0  \n",
       "1                 1          0  \n",
       "2                 3          0  \n",
       "3                 2          0  \n",
       "4                 6          0  "
      ]
     },
     "execution_count": 2,
     "metadata": {},
     "output_type": "execute_result"
    }
   ],
   "source": [
    "raw = pd.read_csv('cleaned.csv')\n",
    "raw.head()"
   ]
  },
  {
   "cell_type": "code",
   "execution_count": 3,
   "id": "c8308a07",
   "metadata": {},
   "outputs": [
    {
     "data": {
      "text/plain": [
       "1336"
      ]
     },
     "execution_count": 3,
     "metadata": {},
     "output_type": "execute_result"
    }
   ],
   "source": [
    "row_count, column_count = raw.shape\n",
    "row_count"
   ]
  },
  {
   "cell_type": "code",
   "execution_count": 4,
   "id": "935015dc",
   "metadata": {},
   "outputs": [],
   "source": [
    "# changing the 'title' as ids\n",
    "le = preprocessing.LabelEncoder()\n",
    "titles = list(raw['title'])\n",
    "le.fit(titles)\n",
    "encoded_titles = le.transform(titles)\n",
    "raw['title'] = encoded_titles"
   ]
  },
  {
   "cell_type": "code",
   "execution_count": 7,
   "id": "ed614e20",
   "metadata": {},
   "outputs": [],
   "source": [
    "# example of a normalization\n",
    "\n",
    "columns = ['title','runtime', 'imdb_score', 'imdb_votes', 'user_review_count', 'critic_review_count','critic_overall_score','critic_positive_score','critic_mixed_score','critic_negative_score','user_overall_score','user_positive_score','user_mixed_score','user_negative_score','#_of_nominations','#_of_wins']\n",
    "\n"
   ]
  },
  {
   "cell_type": "code",
   "execution_count": 8,
   "id": "6d7217b6",
   "metadata": {},
   "outputs": [],
   "source": [
    "# convert numerical-object to numericals\n",
    "for col in columns:\n",
    "    raw[col] = raw[col].replace('[^.0-9]', '', regex=True,).astype(float).fillna(0.0)\n",
    "\n",
    "    "
   ]
  },
  {
   "cell_type": "code",
   "execution_count": 9,
   "id": "375be0db",
   "metadata": {},
   "outputs": [],
   "source": [
    "# convert numerical-object to numericals\n",
    "for col in columns:\n",
    "    raw[col] = raw[col].replace('[^.0-9]', '', regex=True,).astype(float).fillna(0.0)\n",
    "\n",
    "  "
   ]
  },
  {
   "cell_type": "code",
   "execution_count": 10,
   "id": "a4232a4e",
   "metadata": {},
   "outputs": [],
   "source": [
    "# clean textual classes\n",
    "for col in raw.select_dtypes(include='object').columns:\n",
    "        raw[col] = raw[col].str.upper().replace('Z_','',regex=True).replace('[^A-Z]','',regex=True)\n"
   ]
  },
  {
   "cell_type": "code",
   "execution_count": 11,
   "id": "821e8ebf",
   "metadata": {},
   "outputs": [],
   "source": [
    "data_types = {f:t for f,t in zip(raw.columns,raw.dtypes)}"
   ]
  },
  {
   "cell_type": "code",
   "execution_count": 12,
   "id": "e72de4f3",
   "metadata": {},
   "outputs": [],
   "source": [
    "df2 = raw.copy()"
   ]
  },
  {
   "cell_type": "code",
   "execution_count": 13,
   "id": "1d93fb68",
   "metadata": {},
   "outputs": [
    {
     "name": "stdout",
     "output_type": "stream",
     "text": [
      "                     name   num       type\n",
      "0               #_of_wins    13  numerical\n",
      "1        #_of_nominations    19  numerical\n",
      "2   critic_negative_score    21  numerical\n",
      "3      critic_mixed_score    30  numerical\n",
      "4   critic_positive_score    48  numerical\n",
      "5              imdb_score    52  numerical\n",
      "6      user_overall_score    61  numerical\n",
      "7    critic_overall_score    82  numerical\n",
      "8                 runtime   132  numerical\n",
      "9        user_mixed_score   136  numerical\n",
      "10    user_negative_score   139  numerical\n",
      "11    critic_review_count   351  numerical\n",
      "12    user_positive_score   415  numerical\n",
      "13      user_review_count   585  numerical\n",
      "14             imdb_votes  1330  numerical\n",
      "15                  title  1336  numerical\n"
     ]
    }
   ],
   "source": [
    "data_count = pd.DataFrame(df2.nunique(),columns=['num'],index=None).sort_values('num').reset_index()\n",
    "data_count.columns = ['name','num']\n",
    "data_count['type'] = 'numerical'\n",
    "print(data_count)"
   ]
  },
  {
   "cell_type": "code",
   "execution_count": 14,
   "id": "ca93522a",
   "metadata": {},
   "outputs": [],
   "source": [
    "# copy df and drop both 'winner' and 'title' since it will not contribute to clustering\n",
    "df = raw.copy()\n",
    "df = df.drop(labels=['title'],axis=1)"
   ]
  },
  {
   "cell_type": "code",
   "execution_count": 15,
   "id": "e80309b6",
   "metadata": {},
   "outputs": [
    {
     "name": "stdout",
     "output_type": "stream",
     "text": [
      "                     name   num       type\n",
      "0               #_of_wins    13  numerical\n",
      "1        #_of_nominations    19  numerical\n",
      "2   critic_negative_score    21  numerical\n",
      "3      critic_mixed_score    30  numerical\n",
      "4   critic_positive_score    48  numerical\n",
      "5              imdb_score    52  numerical\n",
      "6      user_overall_score    61  numerical\n",
      "7    critic_overall_score    82  numerical\n",
      "8                 runtime   132  numerical\n",
      "9        user_mixed_score   136  numerical\n",
      "10    user_negative_score   139  numerical\n",
      "11    critic_review_count   351  numerical\n",
      "12    user_positive_score   415  numerical\n",
      "13      user_review_count   585  numerical\n",
      "14             imdb_votes  1330  numerical\n"
     ]
    }
   ],
   "source": [
    "# counts unique categories of each attribute\n",
    "data_count = pd.DataFrame(df.nunique(),columns=['num'],index=None).sort_values('num').reset_index()\n",
    "data_count.columns = ['name','num']\n",
    "data_count['type'] = 'numerical'\n",
    "print(data_count)"
   ]
  },
  {
   "cell_type": "code",
   "execution_count": 16,
   "id": "0434e896",
   "metadata": {},
   "outputs": [
    {
     "name": "stdout",
     "output_type": "stream",
     "text": [
      "['#_of_wins', '#_of_nominations', 'critic_negative_score', 'critic_mixed_score', 'critic_positive_score', 'imdb_score', 'user_overall_score', 'critic_overall_score', 'runtime', 'user_mixed_score', 'user_negative_score', 'critic_review_count', 'user_positive_score', 'user_review_count', 'imdb_votes']\n"
     ]
    }
   ],
   "source": [
    "#sorting the attributes as either nominal or numerical\n",
    "\n",
    "#data_count.loc[data_count['name'].isin(['category']),'type']='nominal'\n",
    "\n",
    "nominal_features = list(data_count.loc[data_count['type']=='nominal','name'])\n",
    "numerical_features = list(data_count.loc[data_count['type']=='numerical','name'])\n",
    "print(numerical_features)"
   ]
  },
  {
   "cell_type": "code",
   "execution_count": 17,
   "id": "fd26f4fa",
   "metadata": {},
   "outputs": [
    {
     "data": {
      "text/html": [
       "<div>\n",
       "<style scoped>\n",
       "    .dataframe tbody tr th:only-of-type {\n",
       "        vertical-align: middle;\n",
       "    }\n",
       "\n",
       "    .dataframe tbody tr th {\n",
       "        vertical-align: top;\n",
       "    }\n",
       "\n",
       "    .dataframe thead th {\n",
       "        text-align: right;\n",
       "    }\n",
       "</style>\n",
       "<table border=\"1\" class=\"dataframe\">\n",
       "  <thead>\n",
       "    <tr style=\"text-align: right;\">\n",
       "      <th></th>\n",
       "      <th>#_of_wins</th>\n",
       "      <th>#_of_nominations</th>\n",
       "      <th>critic_negative_score</th>\n",
       "      <th>critic_mixed_score</th>\n",
       "      <th>critic_positive_score</th>\n",
       "      <th>imdb_score</th>\n",
       "      <th>user_overall_score</th>\n",
       "      <th>critic_overall_score</th>\n",
       "      <th>runtime</th>\n",
       "      <th>user_mixed_score</th>\n",
       "      <th>user_negative_score</th>\n",
       "      <th>critic_review_count</th>\n",
       "      <th>user_positive_score</th>\n",
       "      <th>user_review_count</th>\n",
       "      <th>imdb_votes</th>\n",
       "    </tr>\n",
       "  </thead>\n",
       "  <tbody>\n",
       "    <tr>\n",
       "      <th>0</th>\n",
       "      <td>0.0</td>\n",
       "      <td>2.0</td>\n",
       "      <td>2.0</td>\n",
       "      <td>1.0</td>\n",
       "      <td>4.0</td>\n",
       "      <td>6.1</td>\n",
       "      <td>5.8</td>\n",
       "      <td>68.0</td>\n",
       "      <td>122.0</td>\n",
       "      <td>2.0</td>\n",
       "      <td>1.0</td>\n",
       "      <td>51.0</td>\n",
       "      <td>3.0</td>\n",
       "      <td>82.0</td>\n",
       "      <td>17623.0</td>\n",
       "    </tr>\n",
       "    <tr>\n",
       "      <th>1</th>\n",
       "      <td>0.0</td>\n",
       "      <td>1.0</td>\n",
       "      <td>0.0</td>\n",
       "      <td>5.0</td>\n",
       "      <td>12.0</td>\n",
       "      <td>7.6</td>\n",
       "      <td>7.4</td>\n",
       "      <td>72.0</td>\n",
       "      <td>159.0</td>\n",
       "      <td>1.0</td>\n",
       "      <td>3.0</td>\n",
       "      <td>71.0</td>\n",
       "      <td>17.0</td>\n",
       "      <td>42.0</td>\n",
       "      <td>14601.0</td>\n",
       "    </tr>\n",
       "  </tbody>\n",
       "</table>\n",
       "</div>"
      ],
      "text/plain": [
       "   #_of_wins  #_of_nominations  critic_negative_score  critic_mixed_score  \\\n",
       "0        0.0               2.0                    2.0                 1.0   \n",
       "1        0.0               1.0                    0.0                 5.0   \n",
       "\n",
       "   critic_positive_score  imdb_score  user_overall_score  \\\n",
       "0                    4.0         6.1                 5.8   \n",
       "1                   12.0         7.6                 7.4   \n",
       "\n",
       "   critic_overall_score  runtime  user_mixed_score  user_negative_score  \\\n",
       "0                  68.0    122.0               2.0                  1.0   \n",
       "1                  72.0    159.0               1.0                  3.0   \n",
       "\n",
       "   critic_review_count  user_positive_score  user_review_count  imdb_votes  \n",
       "0                 51.0                  3.0               82.0     17623.0  \n",
       "1                 71.0                 17.0               42.0     14601.0  "
      ]
     },
     "execution_count": 17,
     "metadata": {},
     "output_type": "execute_result"
    }
   ],
   "source": [
    "df[numerical_features][:2]"
   ]
  },
  {
   "cell_type": "code",
   "execution_count": 18,
   "id": "e240c38c",
   "metadata": {},
   "outputs": [
    {
     "name": "stdout",
     "output_type": "stream",
     "text": [
      "Feature Means:\t ['0.78', '3.3', '0.88', '4.2', '1.6e+01', '7.3', '6.4', '7.2e+01', '1.2e+02', '2e+01', '1.7e+01', '1.3e+02', '1.7e+02', '3.8e+02', '1.5e+05']\n"
     ]
    },
    {
     "data": {
      "text/html": [
       "<div>\n",
       "<style scoped>\n",
       "    .dataframe tbody tr th:only-of-type {\n",
       "        vertical-align: middle;\n",
       "    }\n",
       "\n",
       "    .dataframe tbody tr th {\n",
       "        vertical-align: top;\n",
       "    }\n",
       "\n",
       "    .dataframe thead th {\n",
       "        text-align: right;\n",
       "    }\n",
       "</style>\n",
       "<table border=\"1\" class=\"dataframe\">\n",
       "  <thead>\n",
       "    <tr style=\"text-align: right;\">\n",
       "      <th></th>\n",
       "      <th>#_of_wins</th>\n",
       "      <th>#_of_nominations</th>\n",
       "      <th>critic_negative_score</th>\n",
       "      <th>critic_mixed_score</th>\n",
       "      <th>critic_positive_score</th>\n",
       "      <th>imdb_score</th>\n",
       "      <th>user_overall_score</th>\n",
       "      <th>critic_overall_score</th>\n",
       "      <th>runtime</th>\n",
       "      <th>user_mixed_score</th>\n",
       "      <th>user_negative_score</th>\n",
       "      <th>critic_review_count</th>\n",
       "      <th>user_positive_score</th>\n",
       "      <th>user_review_count</th>\n",
       "      <th>imdb_votes</th>\n",
       "    </tr>\n",
       "  </thead>\n",
       "  <tbody>\n",
       "    <tr>\n",
       "      <th>0</th>\n",
       "      <td>-0.511703</td>\n",
       "      <td>-0.343712</td>\n",
       "      <td>0.567003</td>\n",
       "      <td>-0.791388</td>\n",
       "      <td>-1.129454</td>\n",
       "      <td>-1.935905</td>\n",
       "      <td>-0.203270</td>\n",
       "      <td>-0.273427</td>\n",
       "      <td>0.150831</td>\n",
       "      <td>-0.449119</td>\n",
       "      <td>-0.353952</td>\n",
       "      <td>-0.715387</td>\n",
       "      <td>-0.435875</td>\n",
       "      <td>-0.545212</td>\n",
       "      <td>-0.516956</td>\n",
       "    </tr>\n",
       "    <tr>\n",
       "      <th>1</th>\n",
       "      <td>-0.511703</td>\n",
       "      <td>-0.613511</td>\n",
       "      <td>-0.447414</td>\n",
       "      <td>0.183414</td>\n",
       "      <td>-0.366024</td>\n",
       "      <td>0.439817</td>\n",
       "      <td>0.340819</td>\n",
       "      <td>0.005746</td>\n",
       "      <td>1.744482</td>\n",
       "      <td>-0.473696</td>\n",
       "      <td>-0.309058</td>\n",
       "      <td>-0.525224</td>\n",
       "      <td>-0.398392</td>\n",
       "      <td>-0.618384</td>\n",
       "      <td>-0.528386</td>\n",
       "    </tr>\n",
       "  </tbody>\n",
       "</table>\n",
       "</div>"
      ],
      "text/plain": [
       "   #_of_wins  #_of_nominations  critic_negative_score  critic_mixed_score  \\\n",
       "0  -0.511703         -0.343712               0.567003           -0.791388   \n",
       "1  -0.511703         -0.613511              -0.447414            0.183414   \n",
       "\n",
       "   critic_positive_score  imdb_score  user_overall_score  \\\n",
       "0              -1.129454   -1.935905           -0.203270   \n",
       "1              -0.366024    0.439817            0.340819   \n",
       "\n",
       "   critic_overall_score   runtime  user_mixed_score  user_negative_score  \\\n",
       "0             -0.273427  0.150831         -0.449119            -0.353952   \n",
       "1              0.005746  1.744482         -0.473696            -0.309058   \n",
       "\n",
       "   critic_review_count  user_positive_score  user_review_count  imdb_votes  \n",
       "0            -0.715387            -0.435875          -0.545212   -0.516956  \n",
       "1            -0.525224            -0.398392          -0.618384   -0.528386  "
      ]
     },
     "execution_count": 18,
     "metadata": {},
     "output_type": "execute_result"
    }
   ],
   "source": [
    "# Standard Scaled \"mean normalisation\" for numerical_data\n",
    "scaler = StandardScaler()\n",
    "scaler.fit(df[numerical_features])\n",
    "print(\"Feature Means:\\t\",[f\"{x:.2}\" for x in scaler.mean_])\n",
    "numerical_data = scaler.transform(df[numerical_features])\n",
    "numerical_data = pd.DataFrame(numerical_data,index=df.index,columns=numerical_features)\n",
    "numerical_data[:2]\n"
   ]
  },
  {
   "cell_type": "code",
   "execution_count": 19,
   "id": "50c75673",
   "metadata": {},
   "outputs": [
    {
     "data": {
      "text/html": [
       "<div>\n",
       "<style scoped>\n",
       "    .dataframe tbody tr th:only-of-type {\n",
       "        vertical-align: middle;\n",
       "    }\n",
       "\n",
       "    .dataframe tbody tr th {\n",
       "        vertical-align: top;\n",
       "    }\n",
       "\n",
       "    .dataframe thead th {\n",
       "        text-align: right;\n",
       "    }\n",
       "</style>\n",
       "<table border=\"1\" class=\"dataframe\">\n",
       "  <thead>\n",
       "    <tr style=\"text-align: right;\">\n",
       "      <th></th>\n",
       "      <th>#_of_wins</th>\n",
       "      <th>#_of_nominations</th>\n",
       "      <th>critic_negative_score</th>\n",
       "      <th>critic_mixed_score</th>\n",
       "      <th>critic_positive_score</th>\n",
       "      <th>imdb_score</th>\n",
       "      <th>user_overall_score</th>\n",
       "      <th>critic_overall_score</th>\n",
       "      <th>runtime</th>\n",
       "      <th>user_mixed_score</th>\n",
       "      <th>user_negative_score</th>\n",
       "      <th>critic_review_count</th>\n",
       "      <th>user_positive_score</th>\n",
       "      <th>user_review_count</th>\n",
       "      <th>imdb_votes</th>\n",
       "    </tr>\n",
       "  </thead>\n",
       "  <tbody>\n",
       "    <tr>\n",
       "      <th>0</th>\n",
       "      <td>0.0</td>\n",
       "      <td>0.013514</td>\n",
       "      <td>0.086957</td>\n",
       "      <td>0.038462</td>\n",
       "      <td>0.088889</td>\n",
       "      <td>0.392157</td>\n",
       "      <td>0.630435</td>\n",
       "      <td>0.619048</td>\n",
       "      <td>0.408163</td>\n",
       "      <td>0.003650</td>\n",
       "      <td>0.00165</td>\n",
       "      <td>0.068571</td>\n",
       "      <td>0.000516</td>\n",
       "      <td>0.010114</td>\n",
       "      <td>0.006858</td>\n",
       "    </tr>\n",
       "    <tr>\n",
       "      <th>1</th>\n",
       "      <td>0.0</td>\n",
       "      <td>0.000000</td>\n",
       "      <td>0.000000</td>\n",
       "      <td>0.192308</td>\n",
       "      <td>0.266667</td>\n",
       "      <td>0.686275</td>\n",
       "      <td>0.804348</td>\n",
       "      <td>0.666667</td>\n",
       "      <td>0.596939</td>\n",
       "      <td>0.001825</td>\n",
       "      <td>0.00495</td>\n",
       "      <td>0.097143</td>\n",
       "      <td>0.002923</td>\n",
       "      <td>0.005113</td>\n",
       "      <td>0.005667</td>\n",
       "    </tr>\n",
       "  </tbody>\n",
       "</table>\n",
       "</div>"
      ],
      "text/plain": [
       "   #_of_wins  #_of_nominations  critic_negative_score  critic_mixed_score  \\\n",
       "0        0.0          0.013514               0.086957            0.038462   \n",
       "1        0.0          0.000000               0.000000            0.192308   \n",
       "\n",
       "   critic_positive_score  imdb_score  user_overall_score  \\\n",
       "0               0.088889    0.392157            0.630435   \n",
       "1               0.266667    0.686275            0.804348   \n",
       "\n",
       "   critic_overall_score   runtime  user_mixed_score  user_negative_score  \\\n",
       "0              0.619048  0.408163          0.003650              0.00165   \n",
       "1              0.666667  0.596939          0.001825              0.00495   \n",
       "\n",
       "   critic_review_count  user_positive_score  user_review_count  imdb_votes  \n",
       "0             0.068571             0.000516           0.010114    0.006858  \n",
       "1             0.097143             0.002923           0.005113    0.005667  "
      ]
     },
     "execution_count": 19,
     "metadata": {},
     "output_type": "execute_result"
    }
   ],
   "source": [
    "# using MinMax scale for numerical data\n",
    "\n",
    "scaler = MinMaxScaler(feature_range=(0,1))\n",
    "scaler.fit(df[numerical_features])\n",
    "numerical_data = scaler.transform(df[numerical_features])\n",
    "numerical_data = pd.DataFrame(numerical_data,index=df.index,columns=numerical_features)\n",
    "numerical_data[:2]"
   ]
  },
  {
   "cell_type": "code",
   "execution_count": 20,
   "id": "b996bcef",
   "metadata": {},
   "outputs": [
    {
     "name": "stdout",
     "output_type": "stream",
     "text": [
      "Data min:max (0.0, 1.0)\n"
     ]
    }
   ],
   "source": [
    "# transformed and scaled dataset\n",
    "Xy_scaled = pd.concat([numerical_data],axis=1)\n",
    "print(f'Data min:max {Xy_scaled.min().min(),Xy_scaled.max().max()}')\n",
    "\n",
    "# original data\n",
    "Xy_original = df[numerical_features].copy()"
   ]
  },
  {
   "cell_type": "code",
   "execution_count": 21,
   "id": "166ae624",
   "metadata": {},
   "outputs": [
    {
     "data": {
      "text/plain": [
       "(15,)"
      ]
     },
     "execution_count": 21,
     "metadata": {},
     "output_type": "execute_result"
    }
   ],
   "source": [
    "column_names = Xy_scaled.columns.values\n",
    "column_names.shape"
   ]
  },
  {
   "cell_type": "code",
   "execution_count": 24,
   "id": "f14b1f5f",
   "metadata": {},
   "outputs": [],
   "source": [
    "# Hyperparameter tuning using the silhouette score method\n",
    "# Silhouette score values range from 0 to 1.\n",
    "\n",
    "# candidate values for our cluster\n",
    "candidate_values = [2, 3, 4, 5, 6, 7, 9, 10, 11, 12]\n",
    "\n",
    "# instantiating ParameterGrid, pass number of clusters as input\n",
    "parameter_grid = ParameterGrid({'n_clusters': candidate_values})"
   ]
  },
  {
   "cell_type": "code",
   "execution_count": 25,
   "id": "7404fb1f",
   "metadata": {},
   "outputs": [
    {
     "name": "stdout",
     "output_type": "stream",
     "text": [
      "Parameter: {'n_clusters': 2} Score 0.42575992843445176\n",
      "Parameter: {'n_clusters': 3} Score 0.2906768770050613\n",
      "Parameter: {'n_clusters': 4} Score 0.27597035821860233\n",
      "Parameter: {'n_clusters': 5} Score 0.2713603789695629\n",
      "Parameter: {'n_clusters': 6} Score 0.2637804837870823\n",
      "Parameter: {'n_clusters': 7} Score 0.264778631695222\n",
      "Parameter: {'n_clusters': 9} Score 0.21386039178863003\n",
      "Parameter: {'n_clusters': 10} Score 0.21320981230116054\n",
      "Parameter: {'n_clusters': 11} Score 0.21349763045247439\n",
      "Parameter: {'n_clusters': 12} Score 0.18029495934214648\n"
     ]
    },
    {
     "data": {
      "image/png": "[encoded data removed]",
      "text/plain": [
       "<Figure size 432x288 with 1 Axes>"
      ]
     },
     "metadata": {
      "needs_background": "light"
     },
     "output_type": "display_data"
    }
   ],
   "source": [
    "#picking the best K_means model\n",
    "best_score = -1\n",
    "kmeans_model = KMeans()     # instantiating KMeans model\n",
    "silhouette_scores = []\n",
    "\n",
    "# evaluation based on silhouette_score\n",
    "for p in parameter_grid:\n",
    "    kmeans_model.set_params(**p)    # set current hyper parameter\n",
    "    kmeans_model.fit(Xy_scaled)         # fit model on wine dataset, this will find clusters based on parameter p\n",
    "    ss = metrics.silhouette_score(Xy_scaled, kmeans_model.labels_)   # calculate silhouette_score\n",
    "    silhouette_scores += [ss]       # store all the scores\n",
    "    print('Parameter:', p, 'Score', ss)\n",
    "    # check p which has the best score\n",
    "    if ss > best_score:\n",
    "        best_score = ss\n",
    "        best_grid = p\n",
    "# plotting silhouette score\n",
    "plt.bar(range(len(silhouette_scores)), list(silhouette_scores), align='center', color='#722f59', width=0.5)\n",
    "plt.xticks(range(len(silhouette_scores)), list(candidate_values))\n",
    "plt.title('Silhouette Score', fontweight='bold')\n",
    "plt.xlabel('Number of Clusters')\n",
    "plt.show()"
   ]
  },
  {
   "cell_type": "code",
   "execution_count": 44,
   "id": "33e0227e",
   "metadata": {},
   "outputs": [
    {
     "data": {
      "text/plain": [
       "KMeans(n_clusters=2)"
      ]
     },
     "execution_count": 44,
     "metadata": {},
     "output_type": "execute_result"
    }
   ],
   "source": [
    "#We will now apply K-Means\n",
    "# fitting KMeans\n",
    "optimum_num_clusters = 2\n",
    "kmeans = KMeans(n_clusters= optimum_num_clusters)\n",
    "kmeans.fit(Xy_scaled)"
   ]
  },
  {
   "cell_type": "code",
   "execution_count": 45,
   "id": "1c080ca1",
   "metadata": {},
   "outputs": [],
   "source": [
    "clustering = kmeans.labels_"
   ]
  },
  {
   "cell_type": "code",
   "execution_count": 46,
   "id": "6481f05c",
   "metadata": {},
   "outputs": [
    {
     "name": "stdout",
     "output_type": "stream",
     "text": [
      "Feature Means:\t ['1.7', '1.1', '4.8', '8.0', '4.9', '8.1', '5e+01', '4.1e+01', '7.8e+01', '1.3e+02', '4.2e+05', '1.3e+03', '1.2e+03', '9.1e+01', '8.1e+01']\n",
      "Data min:max (0.0, 1.0)\n",
      "(12, 15)\n"
     ]
    },
    {
     "data": {
      "text/plain": [
       "(15,)"
      ]
     },
     "execution_count": 46,
     "metadata": {},
     "output_type": "execute_result"
    }
   ],
   "source": [
    "pred = pd.read_csv('test_data.csv')\n",
    "\n",
    "titles_pred = list(pred['title'])\n",
    "le.fit(titles_pred)\n",
    "titles_pred = le.transform(titles_pred)\n",
    "pred['title'] = titles_pred\n",
    "\n",
    "\n",
    "columns_pred = ['title','runtime', 'imdb_score', 'imdb_votes', 'user_review_count', 'critic_review_count','critic_overall_score','critic_positive_score','critic_mixed_score','critic_negative_score','user_overall_score','user_positive_score','user_mixed_score','user_negative_score','#_of_nominations','#_of_wins']\n",
    "\n",
    "\n",
    "    \n",
    "for col in columns_pred:\n",
    "    pred[col] = pred[col].replace('[^.0-9]', '', regex=True,).astype(float).fillna(0.0)\n",
    "\n",
    "    \n",
    "\n",
    "for col in pred.select_dtypes(include='object').columns:\n",
    "        pred[col] = pred[col].str.upper().replace('Z_','',regex=True).replace('[^A-Z]','',regex=True)\n",
    "\n",
    "dp = pred.copy()\n",
    "dp = dp.drop(labels=['title'],axis=1)\n",
    "\n",
    "#print(data_count)\n",
    "data_count_dp = pd.DataFrame(dp.nunique(),columns=['num'],index=None).sort_values('num').reset_index()\n",
    "data_count_dp.columns = ['name','num']\n",
    "data_count_dp['type'] = 'numerical'\n",
    "\n",
    "#data_count_dp.loc[data_count_dp['name'].isin(['category']),'type']='nominal'\n",
    "\n",
    "nominal_features_dp = list(data_count_dp.loc[data_count_dp['type']=='nominal','name'])\n",
    "numerical_features_dp = list(data_count_dp.loc[data_count_dp['type']=='numerical','name'])\n",
    "\n",
    "scaler_dp = StandardScaler()\n",
    "scaler_dp.fit(dp[numerical_features_dp])\n",
    "print(\"Feature Means:\\t\",[f\"{x:.2}\" for x in scaler_dp.mean_])\n",
    "numerical_data_dp = scaler_dp.transform(dp[numerical_features_dp])\n",
    "numerical_data_dp = pd.DataFrame(numerical_data_dp,index=dp.index,columns=numerical_features_dp)\n",
    "numerical_data_dp[:2]\n",
    "\n",
    "scaler_dp = MinMaxScaler(feature_range=(0,1))\n",
    "scaler_dp.fit(dp[numerical_features_dp])\n",
    "numerical_data_dp = scaler_dp.transform(dp[numerical_features_dp])\n",
    "numerical_data_dp = pd.DataFrame(numerical_data_dp,index=dp.index,columns=numerical_features_dp)\n",
    "\n",
    "\n",
    "# transformed and scaled dataset\n",
    "Xy_scaled_dp = pd.concat([numerical_data_dp],axis=1)\n",
    "print(f'Data min:max {Xy_scaled.min().min(),Xy_scaled.max().max()}')\n",
    "\n",
    "print(Xy_scaled_dp.shape)\n",
    "# original data\n",
    "Xy_original_dp = dp[numerical_features_dp].copy()\n",
    "\n",
    "column_names_dp = Xy_scaled_dp.columns.values\n",
    "column_names_dp.shape"
   ]
  },
  {
   "cell_type": "code",
   "execution_count": 47,
   "id": "c30f592a",
   "metadata": {},
   "outputs": [
    {
     "data": {
      "text/plain": [
       "array([0, 0, 0, 0, 0, 0, 0, 0, 0, 0, 0, 1])"
      ]
     },
     "execution_count": 47,
     "metadata": {},
     "output_type": "execute_result"
    }
   ],
   "source": [
    "kmeans.predict(Xy_scaled_dp)"
   ]
  },
  {
   "cell_type": "code",
   "execution_count": 48,
   "id": "17e7c91b",
   "metadata": {},
   "outputs": [],
   "source": [
    "Big = []\n",
    "for i in range(optimum_num_clusters):\n",
    "    cluster = []\n",
    "    for j in range(len(clustering)):\n",
    "        if clustering[j] == i:\n",
    "            cluster.append(j)\n",
    "    Big.append(cluster)"
   ]
  },
  {
   "cell_type": "code",
   "execution_count": 49,
   "id": "542800b2",
   "metadata": {},
   "outputs": [
    {
     "name": "stderr",
     "output_type": "stream",
     "text": [
      "C:\\Users\\kjcox\\anaconda3\\lib\\site-packages\\numpy\\core\\_asarray.py:102: VisibleDeprecationWarning: Creating an ndarray from ragged nested sequences (which is a list-or-tuple of lists-or-tuples-or ndarrays with different lengths or shapes) is deprecated. If you meant to do this, you must specify 'dtype=object' when creating the ndarray.\n",
      "  return array(a, dtype, copy=False, order=order)\n"
     ]
    }
   ],
   "source": [
    "Big = np.asarray(Big)"
   ]
  },
  {
   "cell_type": "code",
   "execution_count": 50,
   "id": "413e827d",
   "metadata": {},
   "outputs": [],
   "source": [
    "raw_2 = pd.read_csv('cleaned.csv')\n",
    "pred_2 = pd.read_csv('test_data.csv')"
   ]
  },
  {
   "cell_type": "code",
   "execution_count": 51,
   "id": "542e13da",
   "metadata": {},
   "outputs": [],
   "source": [
    "titles_raw = list(raw_2['title'])\n",
    "titles_pred = list(pred_2['title'])"
   ]
  },
  {
   "cell_type": "code",
   "execution_count": 52,
   "id": "d4bdba6d",
   "metadata": {},
   "outputs": [],
   "source": [
    "Cluster_title = []\n",
    "for clusters in Big:\n",
    "    C = []\n",
    "    for i in clusters:\n",
    "        C.append(titles_raw[i])\n",
    "    Cluster_title.append(C)"
   ]
  },
  {
   "cell_type": "code",
   "execution_count": 53,
   "id": "24da5991",
   "metadata": {},
   "outputs": [],
   "source": [
    "Big_2 = []\n",
    "for i in range(len(Cluster_title)):\n",
    "    Big_2.append(np.squeeze(Cluster_title[i]))"
   ]
  },
  {
   "cell_type": "code",
   "execution_count": 54,
   "id": "9f6e6648",
   "metadata": {},
   "outputs": [
    {
     "data": {
      "text/plain": [
       "array(['42nd Street', 'A Foreign Affair', 'A Little Romance',\n",
       "       'A Patch of Blue', \"A Soldier's Story\", 'A Tale of Two Cities',\n",
       "       'Agnes of God', \"Airport '77\", 'Alfie', 'America America',\n",
       "       'Anchors Aweigh', 'Around the World in 80 Days', 'Avalon',\n",
       "       'Baby Doll', 'Ball of Fire', 'Basic Instinct', 'Beau Geste',\n",
       "       'Bells Are Ringing', 'Best Friends', 'Blaze', 'Bloodbrothers',\n",
       "       'Bound for Glory', 'Camelot', 'Captain Blood',\n",
       "       'Captains Courageous', 'Carmen Jones', 'Carnal Knowledge',\n",
       "       'Casino Royale', 'Chitty Chitty Bang Bang', 'Cimarron',\n",
       "       'Comes a Horseman', 'Coming Home', 'Crimes of the Heart', 'Dad',\n",
       "       'Daisy Miller', 'David Copperfield', 'Detective Story',\n",
       "       'Doctor Dolittle', 'Donnie Brasco', 'Enchanted April',\n",
       "       'Endless Love', 'Face to Face', 'Faces', 'Fame',\n",
       "       'Farewell My Concubine', 'Fat City', 'Father of the Bride',\n",
       "       'Fly Away Home', 'Flying Down to Rio', 'For All Mankind',\n",
       "       'For Whom the Bell Tolls', 'Forbidden Planet',\n",
       "       'Foreign Correspondent', 'Frances', 'Gloria', 'Goodbye, Mr. Chips',\n",
       "       'Grand Prix', 'Greystoke: The Legend of Tarzan, Lord of the Apes',\n",
       "       'Gunfight at the O.K. Corral', 'Guys and Dolls', 'Hamlet',\n",
       "       'Harry and Tonto', 'Heart Like a Wheel', 'Hello, Dolly!',\n",
       "       'Henry & June', 'Hold Back the Dawn', 'Hondo', 'Hooper',\n",
       "       'How Green Was My Valley', 'Husbands and Wives', 'Ice Castles',\n",
       "       'Ice Station Zebra', 'Imitation of Life', 'In & Out',\n",
       "       'Inside Moves', 'Intermezzo', 'Ironweed',\n",
       "       'It Happened on Fifth Avenue', 'Jagged Edge', 'Julia',\n",
       "       'Lady on a Train', 'Lassie Come Home', 'Let It Be',\n",
       "       \"Let's Get Lost\", 'Life with Father', 'Looking for Mr. Goodbar',\n",
       "       'Love Affair', 'Lover Come Back', 'Man of a Thousand Faces',\n",
       "       'Marooned', 'Mary, Queen of Scots', 'Matewan', 'Meteor',\n",
       "       'Metropolitan', 'Midnight Lace', 'Mighty Joe Young',\n",
       "       'Million Dollar Mermaid', 'Mister Roberts', 'Mona Lisa',\n",
       "       'My Brilliant Career', 'My Favorite Year', 'My Man Godfrey',\n",
       "       'Nell', 'Norbit', 'Now, Voyager', 'Of Mice and Men', 'Oklahoma!',\n",
       "       'On the Beach', 'One, Two, Three', 'Paint Your Wagon', 'Paris 36',\n",
       "       'Paris Blues', 'Pat and Mike', 'Pennies from Heaven',\n",
       "       'Period of Adjustment', 'Phantom of the Opera', 'Pillow Talk',\n",
       "       'Pirates', 'Porgy and Bess', 'Pride and Prejudice',\n",
       "       'Prince of the City', 'Random Harvest',\n",
       "       'Remo Williams: The Adventure Begins', 'Restoration',\n",
       "       'Rhapsody in Blue', 'Richard III', 'Ridicule', 'Road to Morocco',\n",
       "       'Road to Utopia', 'Roberta', 'Romeo and Juliet', 'Room at the Top',\n",
       "       'Sands of Iwo Jima', 'Scrooge', 'Seconds', 'Separate Tables',\n",
       "       'Seven Days in May', 'Shanghai Express', 'Shanghai Triad',\n",
       "       'Silver Streak', 'Some Came Running', 'Sounder',\n",
       "       'Speaking in Strings', 'Starting Over', 'Street Smart',\n",
       "       'Strike Up the Band', 'Sunrise at Campobello', 'Sweet Charity',\n",
       "       'Sweet Dreams', 'Swing Shift', 'Swing Time', 'Tender Mercies',\n",
       "       'The Americanization of Emily', 'The Asphalt Jungle',\n",
       "       'The Bad Seed', 'The Band Wagon', 'The Bear', 'The Big House',\n",
       "       'The Black Dahlia', 'The Black Hole', 'The Bostonians',\n",
       "       'The Buddy Holly Story', 'The Chalk Garden', 'The Champ',\n",
       "       'The Clan of the Cave Bear', 'The Commitments',\n",
       "       'The Day of the Locust', 'The Decline of the American Empire',\n",
       "       'The Deep', 'The Electric Horseman', 'The Entertainer',\n",
       "       'The Europeans', 'The Front Page', 'The Gay Divorcee',\n",
       "       'The Grandfather', 'The Great Santini', 'The Great White Hope',\n",
       "       'The Guns of Navarone', 'The Harvey Girls', 'The Heartbreak Kid',\n",
       "       'The Hospital', 'The Hot Rock', 'The House of the Seven Gables',\n",
       "       'The Informer', 'The Journey of Natty Gann', 'The Last Days',\n",
       "       'The Last Tycoon', 'The Living Desert', 'The Lover',\n",
       "       \"The Miracle of Morgan's Creek\", 'The Molly Maguires',\n",
       "       'The Naked Prey', \"The Nun's Story\", 'The Old Man and the Sea',\n",
       "       'The Paper', 'The Paper Chase', 'The Pawnbroker', 'The Promise',\n",
       "       'The Quiet Man', 'The Reivers', 'The River', 'The Rose',\n",
       "       'The Snows of Kilimanjaro', 'The Sundowners',\n",
       "       'The Trip to Bountiful', 'The Turning Point', 'The V.I.P.s',\n",
       "       'The War Room', 'The Westerner', 'The Wind and the Lion',\n",
       "       'The Yearling', 'They Were Expendable', 'Three Men and a Cradle',\n",
       "       'Through a Glass Darkly', 'To Be or Not to Be', 'To Each His Own',\n",
       "       'Tortilla Flat', 'Twice in a Lifetime', 'Twist of Faith',\n",
       "       'Two for the Road', 'Two-Minute Warning', 'Under Fire',\n",
       "       'Under the Volcano', 'Valley of the Dolls', 'Waterworld',\n",
       "       \"What's Love Got to Do with It\", 'Woodstock',\n",
       "       'Written on the Wind'], dtype='<U49')"
      ]
     },
     "execution_count": 54,
     "metadata": {},
     "output_type": "execute_result"
    }
   ],
   "source": [
    "Big_2[1]"
   ]
  },
  {
   "cell_type": "code",
   "execution_count": null,
   "id": "6524cf93",
   "metadata": {},
   "outputs": [],
   "source": []
  }
 ],
 "metadata": {
  "kernelspec": {
   "display_name": "Python 3",
   "language": "python",
   "name": "python3"
  },
  "language_info": {
   "codemirror_mode": {
    "name": "ipython",
    "version": 3
   },
   "file_extension": ".py",
   "mimetype": "text/x-python",
   "name": "python",
   "nbconvert_exporter": "python",
   "pygments_lexer": "ipython3",
   "version": "3.8.8"
  }
 },
 "nbformat": 4,
 "nbformat_minor": 5
}
