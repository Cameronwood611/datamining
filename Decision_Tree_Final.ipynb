{
 "cells": [
  {
   "cell_type": "markdown",
   "id": "6e1a003a",
   "metadata": {},
   "source": [
    "# SVM_RBF_Final"
   ]
  },
  {
   "cell_type": "code",
   "execution_count": 1,
   "id": "671e39c7",
   "metadata": {},
   "outputs": [],
   "source": [
    "from __future__ import print_function\n",
    "import time\n",
    "import sklearn\n",
    "import numpy as np\n",
    "import pandas as pd\n",
    "from sklearn.decomposition import PCA\n",
    "from sklearn.manifold import TSNE\n",
    "%matplotlib inline\n",
    "import matplotlib.pyplot as plt\n",
    "from mpl_toolkits.mplot3d import Axes3D\n",
    "import seaborn as sns\n",
    "from sklearn.cluster import KMeans\n",
    "from sklearn import preprocessing\n",
    "from numpy import asarray\n",
    "from sklearn.preprocessing import MinMaxScaler\n",
    "from sklearn.preprocessing import scale,RobustScaler,StandardScaler, MinMaxScaler\n",
    "from sklearn.cluster import KMeans\n",
    "from matplotlib import cm\n",
    "from sklearn.manifold import TSNE\n",
    "from sklearn.datasets import make_blobs\n",
    "import sklearn.metrics as metrics\n",
    "import sklearn.metrics as metrics\n",
    "from sklearn.metrics import silhouette_samples, silhouette_score\n",
    "from sklearn.model_selection import ParameterGrid\n",
    "from sklearn.svm import SVC\n",
    "import matplotlib.pyplot as plt\n",
    "from sklearn.datasets import make_classification\n",
    "from sklearn.metrics import confusion_matrix, ConfusionMatrixDisplay\n",
    "from sklearn.model_selection import train_test_split\n",
    "from sklearn.metrics import f1_score\n",
    "from sklearn.naive_bayes import GaussianNB\n",
    "from sklearn import tree"
   ]
  },
  {
   "cell_type": "markdown",
   "id": "d7a86265",
   "metadata": {},
   "source": [
    "## Method 1 without PCA:\n",
    "\n",
    "Oscar_92:\n",
    "- 75% train\n",
    "- 25% test"
   ]
  },
  {
   "cell_type": "code",
   "execution_count": 2,
   "id": "3b684490",
   "metadata": {},
   "outputs": [],
   "source": [
    "raw = pd.read_csv('cleaned.csv')"
   ]
  },
  {
   "cell_type": "markdown",
   "id": "cabe64ab",
   "metadata": {},
   "source": [
    "#### Split our dataset"
   ]
  },
  {
   "cell_type": "code",
   "execution_count": 3,
   "id": "97a7659c",
   "metadata": {},
   "outputs": [],
   "source": [
    "train, test = train_test_split(raw, test_size=0.25)"
   ]
  },
  {
   "cell_type": "markdown",
   "id": "2b8cb1e0",
   "metadata": {},
   "source": [
    "##### Pre-processing Dataset"
   ]
  },
  {
   "cell_type": "code",
   "execution_count": 4,
   "id": "7877d2d8",
   "metadata": {},
   "outputs": [],
   "source": [
    "le = preprocessing.LabelEncoder()\n",
    "title = list(train['title'])\n",
    "le.fit(title)\n",
    "encoded_titles = le.transform(title)\n",
    "train['title'] = encoded_titles\n",
    "\n",
    "# example of a normalization\n",
    "columns = ['title','runtime', 'imdb_score', 'imdb_votes', 'user_review_count', 'critic_review_count','critic_overall_score','critic_positive_score','critic_mixed_score','critic_negative_score','user_overall_score','user_positive_score','user_mixed_score','user_negative_score','#_of_nominations','#_of_wins']\n",
    "\n",
    "# convert numerical-object to numericals\n",
    "for col in columns:\n",
    "    train[col] = train[col].replace('[^.0-9]', '', regex=True,).astype(float).fillna(0.0)\n",
    "\n",
    "    # clean textual classes\n",
    "for col in train.select_dtypes(include='object').columns:\n",
    "    train[col] = train[col].str.upper().replace('Z_','',regex=True).replace('[^A-Z]','',regex=True)\n",
    "        \n",
    "data_types = {f:t for f,t in zip(train.columns,train.dtypes)}\n",
    "\n",
    "# copy df\n",
    "df = train.copy()\n",
    "df = df.drop(labels=['title'],axis=1)\n",
    "df = df.drop(labels=['#_of_wins'],axis=1)\n",
    "\n",
    "#print(df)\n",
    "data_meta = pd.DataFrame(df.nunique(),columns=['num'],index=None).sort_values('num').reset_index()\n",
    "data_meta.columns = ['name','num']\n",
    "data_meta['type'] = 'numerical'\n",
    "#print(data_meta)\n",
    "\n",
    "#print(data_meta)\n",
    "\n",
    "#data_meta.loc[(data_meta['num']<=15) & (~data_meta['name'].isin(['category','name','winner'])),'type']='categorical'\n",
    "data_meta.loc[data_meta['name'].isin(['category','name']),'type']='categorical'\n",
    "\n",
    "categorical_features = list(data_meta.loc[data_meta['type']=='categorical','name'])\n",
    "numerical_features = list(data_meta.loc[data_meta['type']=='numerical','name'])\n",
    "#print(numerical_features)\n",
    "\n",
    "\n",
    "# Standard Scaled \"mean normalisation\"\n",
    "scaler = StandardScaler()\n",
    "scaler.fit(df[numerical_features])\n",
    "#print(\"Feature Means:\\t\",[f\"{x:.2}\" for x in scaler.mean_])\n",
    "numerical_data = scaler.transform(df[numerical_features])\n",
    "numerical_data = pd.DataFrame(numerical_data,index=df.index,columns=numerical_features)\n",
    "numerical_data[:2]\n",
    "\n",
    "#print(numerical_data)\n",
    "\n",
    "scaler = MinMaxScaler(feature_range=(0,1))\n",
    "scaler.fit(df[numerical_features])\n",
    "numerical_data = scaler.transform(df[numerical_features])\n",
    "numerical_data = pd.DataFrame(numerical_data,index=df.index,columns=numerical_features)\n",
    "numerical_data[:2]\n",
    "\n",
    "\n",
    "# nominal_features = [c for c in categorical_features]\n",
    "# #print(\"Nominals:\\n\",nominal_features)\n",
    "\n",
    "# nominal_data = list()\n",
    "# for i,x in df[nominal_features].nunique().iteritems():\n",
    "#     if x <= 2:\n",
    "#         nominal_data.append(pd.get_dummies(df[[i]],drop_first=True))\n",
    "#     elif x > 2:\n",
    "#         nominal_data.append(pd.get_dummies(df[[i]],drop_first=False))\n",
    "        \n",
    "#nominal_data = pd.concat(nominal_data,axis=1)\n",
    "\n",
    "# transformed and scaled dataset\n",
    "Xy_train = pd.concat([numerical_data],axis=1)\n",
    "#print(f'Data min:max {Xy_scaled.min().min(),Xy_scaled.max().max()}')\n",
    "\n",
    "# original data\n",
    "Xy_original = df[numerical_features].copy()"
   ]
  },
  {
   "cell_type": "code",
   "execution_count": 5,
   "id": "b05d7800",
   "metadata": {},
   "outputs": [],
   "source": [
    "titles2 = list(test['title'])\n",
    "le.fit(titles2)\n",
    "encoded_titles2 = le.transform(titles2)\n",
    "test['title'] = encoded_titles2\n",
    "\n",
    "# example of a normalization\n",
    "columns = ['title','runtime', 'imdb_score', 'imdb_votes', 'user_review_count', 'critic_review_count','critic_overall_score','critic_positive_score','critic_mixed_score','critic_negative_score','user_overall_score','user_positive_score','user_mixed_score','user_negative_score','#_of_nominations','#_of_wins']\n",
    "\n",
    "# convert numerical-object to numericals\n",
    "for col in columns:\n",
    "    test[col] = test[col].replace('[^.0-9]', '', regex=True,).astype(float).fillna(0.0)\n",
    "\n",
    "    # clean textual classes\n",
    "for col in test.select_dtypes(include='object').columns:\n",
    "    test[col] = test[col].str.upper().replace('Z_','',regex=True).replace('[^A-Z]','',regex=True)\n",
    "        \n",
    "data_types = {f:t for f,t in zip(test.columns,test.dtypes)}\n",
    "\n",
    "# copy df\n",
    "dp = test.copy()\n",
    "dp = dp.drop(labels=['title'],axis=1)\n",
    "dp = dp.drop(labels=['#_of_wins'],axis=1)\n",
    "\n",
    "\n",
    "data_meta2 = pd.DataFrame(dp.nunique(),columns=['num'],index=None).sort_values('num').reset_index()\n",
    "data_meta2.columns = ['name','num']\n",
    "data_meta2['type'] = 'numerical'\n",
    "#print(data_meta)\n",
    "\n",
    "\n",
    "#data_meta.loc[(data_meta['num']<=15) & (~data_meta['name'].isin(['category','name','winner'])),'type']='categorical'\n",
    "data_meta2.loc[data_meta2['name'].isin(['category','name']),'type']='categorical'\n",
    "\n",
    "#categorical_features2 = list(data_meta2.loc[data_meta2['type']=='categorical','name'])\n",
    "numerical_features2 = list(data_meta2.loc[data_meta2['type']=='numerical','name'])\n",
    "#print(numerical_features)\n",
    "\n",
    "\n",
    "# Standard Scaled \"mean normalisation\"\n",
    "scaler2 = StandardScaler()\n",
    "scaler2.fit(dp[numerical_features2])\n",
    "#print(\"Feature Means:\\t\",[f\"{x:.2}\" for x in scaler.mean_])\n",
    "numerical_data2 = scaler2.transform(dp[numerical_features2])\n",
    "numerical_data2 = pd.DataFrame(numerical_data2,index=dp.index,columns=numerical_features2)\n",
    "numerical_data2[:2]\n",
    "\n",
    "\n",
    "\n",
    "scaler2 = MinMaxScaler(feature_range=(0,1))\n",
    "scaler2.fit(dp[numerical_features2])\n",
    "numerical_data2 = scaler2.transform(dp[numerical_features2])\n",
    "numerical_data2 = pd.DataFrame(numerical_data2,index=dp.index,columns=numerical_features2)\n",
    "numerical_data2[:2]\n",
    "\n",
    "\n",
    "# nominal_features = [c for c in categorical_features]\n",
    "# print(\"Nominals:\\n\",nominal_features)\n",
    "\n",
    "# nominal_data = list()\n",
    "# for i,x in df[nominal_features].nunique().iteritems():\n",
    "#     if x <= 2:\n",
    "#         nominal_data.append(pd.get_dummies(df[[i]],drop_first=True))\n",
    "#     elif x > 2:\n",
    "#         nominal_data.append(pd.get_dummies(df[[i]],drop_first=False))\n",
    "        \n",
    "# nominal_data = pd.concat(nominal_data,axis=1)\n",
    "\n",
    "# transformed and scaled dataset\n",
    "Xy_test = pd.concat([numerical_data2],axis=1)\n",
    "#print(f'Data min:max {Xy_scaled.min().min(),Xy_scaled.max().max()}')\n",
    "\n",
    "# original data\n",
    "Xy_original_dp = dp[numerical_features2].copy()"
   ]
  },
  {
   "cell_type": "code",
   "execution_count": 6,
   "id": "e548368b",
   "metadata": {},
   "outputs": [],
   "source": [
    "#Match the column index\n",
    "Xy_train = Xy_train.reindex(columns=sorted(Xy_train.columns))\n",
    "Xy_test = Xy_test.reindex(columns=sorted(Xy_test.columns))"
   ]
  },
  {
   "cell_type": "code",
   "execution_count": 7,
   "id": "9c969d31",
   "metadata": {},
   "outputs": [],
   "source": [
    "y_train = train['#_of_wins']\n",
    "y_train = np.array(y_train)\n",
    "\n",
    "y_test = test['#_of_wins']\n",
    "y_test = np.array(y_test)\n",
    "\n",
    "y_train2=[]\n",
    "for i in range(len(y_train)):\n",
    "    if y_train[i]==0:\n",
    "        y_train2.append(0)\n",
    "    else:\n",
    "        y_train2.append(1)\n",
    "        \n",
    "\n",
    "y_test2=[]\n",
    "for i in range(len(y_test)):\n",
    "    if y_test[i]==0:\n",
    "        y_test2.append(0)\n",
    "    else:\n",
    "        y_test2.append(1)\n"
   ]
  },
  {
   "cell_type": "code",
   "execution_count": 8,
   "id": "e2b3f852",
   "metadata": {},
   "outputs": [
    {
     "data": {
      "text/plain": [
       "DecisionTreeClassifier(class_weight='balanced')"
      ]
     },
     "execution_count": 8,
     "metadata": {},
     "output_type": "execute_result"
    }
   ],
   "source": [
    "clf_M1 = tree.DecisionTreeClassifier(class_weight=\"balanced\")\n",
    "clf_M1.fit(Xy_train,y_train2)"
   ]
  },
  {
   "cell_type": "code",
   "execution_count": 9,
   "id": "31c11f5c",
   "metadata": {},
   "outputs": [],
   "source": [
    "pred_M1 = clf_M1.predict(Xy_test)"
   ]
  },
  {
   "cell_type": "markdown",
   "id": "61ee2f8e",
   "metadata": {},
   "source": [
    "##### Calculating F1-Score"
   ]
  },
  {
   "cell_type": "code",
   "execution_count": 10,
   "id": "64d93bfe",
   "metadata": {},
   "outputs": [
    {
     "name": "stdout",
     "output_type": "stream",
     "text": [
      "binary F1 score:  0.662251655629139\n"
     ]
    }
   ],
   "source": [
    "binary = f1_score(y_test2, pred_M1, average='binary')\n",
    "\n",
    "print('binary F1 score: ',binary)"
   ]
  },
  {
   "cell_type": "code",
   "execution_count": 11,
   "id": "3e7c6c29",
   "metadata": {},
   "outputs": [
    {
     "data": {
      "image/png": "[encoded data removed]",
      "text/plain": [
       "<Figure size 432x288 with 2 Axes>"
      ]
     },
     "metadata": {
      "needs_background": "light"
     },
     "output_type": "display_data"
    }
   ],
   "source": [
    "clf = SVC(random_state=0)\n",
    "clf.fit(Xy_train, y_train2)\n",
    "\n",
    "SVC(random_state=0)\n",
    "predictions = clf.predict(Xy_test)\n",
    "cm2 = confusion_matrix(y_test2, pred_M1, labels=clf.classes_)\n",
    "disp = ConfusionMatrixDisplay(confusion_matrix=cm2,display_labels=clf.classes_)\n",
    "disp.plot()\n",
    "\n",
    "plt.show()"
   ]
  },
  {
   "cell_type": "markdown",
   "id": "e6d1643d",
   "metadata": {},
   "source": [
    "##### Accuracy"
   ]
  },
  {
   "cell_type": "code",
   "execution_count": 12,
   "id": "f1c963e6",
   "metadata": {},
   "outputs": [
    {
     "data": {
      "text/plain": [
       "0.6946107784431138"
      ]
     },
     "execution_count": 12,
     "metadata": {},
     "output_type": "execute_result"
    }
   ],
   "source": [
    "sklearn.metrics.accuracy_score(y_test2, pred_M1)"
   ]
  },
  {
   "cell_type": "markdown",
   "id": "58f60bb1",
   "metadata": {},
   "source": [
    "# Method 1 with PCA"
   ]
  },
  {
   "cell_type": "code",
   "execution_count": 13,
   "id": "7603fe4b",
   "metadata": {},
   "outputs": [
    {
     "name": "stdout",
     "output_type": "stream",
     "text": [
      "Explained variation per principal component: [0.45054316 0.19240649]\n",
      "Cumulative variance explained by 2 principal components: 64.29%\n"
     ]
    }
   ],
   "source": [
    "#reducing dimension using PCA.\n",
    "#calculates the % of the data we still have of our original\n",
    "pca_M1_train = PCA(n_components=2)\n",
    "pca_M1result_train=pca_M1_train.fit_transform(Xy_train)\n",
    "print('Explained variation per principal component: {}'.format(pca_M1_train.explained_variance_ratio_))\n",
    "print('Cumulative variance explained by 2 principal components: {:.2%}'.format(np.sum(pca_M1_train.explained_variance_ratio_)))"
   ]
  },
  {
   "cell_type": "code",
   "execution_count": 14,
   "id": "84987470",
   "metadata": {},
   "outputs": [
    {
     "name": "stdout",
     "output_type": "stream",
     "text": [
      "Explained variation per principal component: [0.36329199 0.17700669]\n",
      "Cumulative variance explained by 2 principal components: 54.03%\n"
     ]
    }
   ],
   "source": [
    "#reducing dimension using PCA.\n",
    "#calculates the % of the data we still have of our original\n",
    "pca_M1_test = PCA(n_components=2)\n",
    "pca_M1result_test=pca_M1_test.fit_transform(Xy_test)\n",
    "print('Explained variation per principal component: {}'.format(pca_M1_test.explained_variance_ratio_))\n",
    "print('Cumulative variance explained by 2 principal components: {:.2%}'.format(np.sum(pca_M1_test.explained_variance_ratio_)))"
   ]
  },
  {
   "cell_type": "code",
   "execution_count": 15,
   "id": "48f2c0e1",
   "metadata": {},
   "outputs": [
    {
     "data": {
      "text/plain": [
       "DecisionTreeClassifier(class_weight='balanced')"
      ]
     },
     "execution_count": 15,
     "metadata": {},
     "output_type": "execute_result"
    }
   ],
   "source": [
    "clf_M1_w = tree.DecisionTreeClassifier(class_weight=\"balanced\")\n",
    "clf_M1_w.fit(pca_M1result_train, y_train2)"
   ]
  },
  {
   "cell_type": "code",
   "execution_count": 16,
   "id": "cfd504b2",
   "metadata": {},
   "outputs": [],
   "source": [
    "pred_M1_w = clf_M1_w.predict(pca_M1result_test)"
   ]
  },
  {
   "cell_type": "markdown",
   "id": "d4e4c069",
   "metadata": {},
   "source": [
    "##### Calculating F-1 Score"
   ]
  },
  {
   "cell_type": "code",
   "execution_count": 17,
   "id": "db3e960e",
   "metadata": {},
   "outputs": [
    {
     "name": "stdout",
     "output_type": "stream",
     "text": [
      "binary F1 score:  0.3292181069958848\n"
     ]
    }
   ],
   "source": [
    "binary = f1_score(y_test2, pred_M1_w, average='binary')\n",
    "\n",
    "print('binary F1 score: ',binary)"
   ]
  },
  {
   "cell_type": "code",
   "execution_count": 18,
   "id": "538870e2",
   "metadata": {},
   "outputs": [
    {
     "data": {
      "image/png": "[encoded data removed]",
      "text/plain": [
       "<Figure size 432x288 with 2 Axes>"
      ]
     },
     "metadata": {
      "needs_background": "light"
     },
     "output_type": "display_data"
    }
   ],
   "source": [
    "clf = SVC(random_state=0)\n",
    "clf.fit(pca_M1result_train, y_train2)\n",
    "\n",
    "SVC(random_state=0)\n",
    "predictions = clf.predict(pca_M1result_test)\n",
    "cm2 = confusion_matrix(y_test2, pred_M1_w, labels=clf.classes_)\n",
    "disp = ConfusionMatrixDisplay(confusion_matrix=cm2,display_labels=clf.classes_)\n",
    "disp.plot()\n",
    "\n",
    "plt.show()"
   ]
  },
  {
   "cell_type": "markdown",
   "id": "ee9f8eda",
   "metadata": {},
   "source": [
    "##### Accuracy"
   ]
  },
  {
   "cell_type": "code",
   "execution_count": 19,
   "id": "78ed271d",
   "metadata": {},
   "outputs": [
    {
     "data": {
      "text/plain": [
       "0.5119760479041916"
      ]
     },
     "execution_count": 19,
     "metadata": {},
     "output_type": "execute_result"
    }
   ],
   "source": [
    "sklearn.metrics.accuracy_score(y_test2, pred_M1_w)"
   ]
  },
  {
   "cell_type": "markdown",
   "id": "4d50bc14",
   "metadata": {},
   "source": [
    "## Method 2 without PCA"
   ]
  },
  {
   "cell_type": "code",
   "execution_count": 20,
   "id": "48d5bd44",
   "metadata": {},
   "outputs": [],
   "source": [
    "Oscar93=pd.read_csv('93rd_test_data.csv')"
   ]
  },
  {
   "cell_type": "code",
   "execution_count": 21,
   "id": "4b31aac7",
   "metadata": {},
   "outputs": [],
   "source": [
    "le = preprocessing.LabelEncoder()\n",
    "title3 = list(Oscar93['title'])\n",
    "le.fit(title3)\n",
    "encoded_titles3 = le.transform(title3)\n",
    "Oscar93['title'] = encoded_titles3\n",
    "\n",
    "# example of a normalization\n",
    "columns = ['title','runtime', 'imdb_score', 'imdb_votes', 'user_review_count', 'critic_review_count','critic_overall_score','critic_positive_score','critic_mixed_score','critic_negative_score','user_overall_score','user_positive_score','user_mixed_score','user_negative_score','#_of_nominations','#_of_wins']\n",
    "\n",
    "# convert numerical-object to numericals\n",
    "for col in columns:\n",
    "    Oscar93[col] = Oscar93[col].replace('[^.0-9]', '', regex=True,).astype(float).fillna(0.0)\n",
    "\n",
    "    # clean textual classes\n",
    "for col in Oscar93.select_dtypes(include='object').columns:\n",
    "    Oscar93[col] = Oscar93[col].str.upper().replace('Z_','',regex=True).replace('[^A-Z]','',regex=True)\n",
    "        \n",
    "data_types3 = {f:t for f,t in zip(Oscar93.columns,Oscar93.dtypes)}\n",
    "\n",
    "# copy df\n",
    "dp3 = Oscar93.copy()\n",
    "dp3 = dp3.drop(labels=['title'],axis=1)\n",
    "dp3 = dp3.drop(labels=['#_of_wins'],axis=1)\n",
    "\n",
    "#print(df)\n",
    "data_meta3 = pd.DataFrame(dp3.nunique(),columns=['num'],index=None).sort_values('num').reset_index()\n",
    "data_meta3.columns = ['name','num']\n",
    "data_meta3['type'] = 'numerical'\n",
    "#print(data_meta)\n",
    "\n",
    "#print(data_meta)\n",
    "\n",
    "#data_meta.loc[(data_meta['num']<=15) & (~data_meta['name'].isin(['category','name','winner'])),'type']='categorical'\n",
    "data_meta3.loc[data_meta3['name'].isin(['category','name']),'type']='categorical'\n",
    "\n",
    "categorical_features3 = list(data_meta3.loc[data_meta3['type']=='categorical','name'])\n",
    "numerical_features3 = list(data_meta3.loc[data_meta3['type']=='numerical','name'])\n",
    "#print(numerical_features)\n",
    "\n",
    "\n",
    "# Standard Scaled \"mean normalisation\"\n",
    "scaler3 = StandardScaler()\n",
    "scaler3.fit(dp3[numerical_features3])\n",
    "#print(\"Feature Means:\\t\",[f\"{x:.2}\" for x in scaler.mean_])\n",
    "numerical_data3 = scaler3.transform(dp3[numerical_features3])\n",
    "numerical_data3 = pd.DataFrame(numerical_data3,index=dp3.index,columns=numerical_features3)\n",
    "numerical_data3[:2]\n",
    "\n",
    "#print(numerical_data)\n",
    "\n",
    "scaler3 = MinMaxScaler(feature_range=(0,1))\n",
    "scaler3.fit(dp3[numerical_features3])\n",
    "numerical_data3 = scaler3.transform(dp3[numerical_features3])\n",
    "numerical_data3 = pd.DataFrame(numerical_data3,index=dp3.index,columns=numerical_features3)\n",
    "numerical_data3[:2]\n",
    "\n",
    "\n",
    "# nominal_features = [c for c in categorical_features]\n",
    "# #print(\"Nominals:\\n\",nominal_features)\n",
    "\n",
    "# nominal_data = list()\n",
    "# for i,x in df[nominal_features].nunique().iteritems():\n",
    "#     if x <= 2:\n",
    "#         nominal_data.append(pd.get_dummies(df[[i]],drop_first=True))\n",
    "#     elif x > 2:\n",
    "#         nominal_data.append(pd.get_dummies(df[[i]],drop_first=False))\n",
    "        \n",
    "#nominal_data = pd.concat(nominal_data,axis=1)\n",
    "\n",
    "# transformed and scaled dataset\n",
    "Oscar93_test = pd.concat([numerical_data3],axis=1)\n",
    "#print(f'Data min:max {Xy_scaled.min().min(),Xy_scaled.max().max()}')\n",
    "\n",
    "# original data\n",
    "Oscar93_original = dp3[numerical_features3].copy()"
   ]
  },
  {
   "cell_type": "code",
   "execution_count": 22,
   "id": "3b020ae5",
   "metadata": {},
   "outputs": [],
   "source": [
    "Oscar93_test = Oscar93_test.reindex(columns=sorted(Oscar93_test.columns))\n",
    "Xy_train = Xy_train.reindex(columns=sorted(Xy_train.columns))"
   ]
  },
  {
   "cell_type": "code",
   "execution_count": 23,
   "id": "dd426cde",
   "metadata": {},
   "outputs": [
    {
     "data": {
      "text/plain": [
       "DecisionTreeClassifier(class_weight='balanced')"
      ]
     },
     "execution_count": 23,
     "metadata": {},
     "output_type": "execute_result"
    }
   ],
   "source": [
    "clf_M2 = tree.DecisionTreeClassifier(class_weight=\"balanced\")\n",
    "clf_M2.fit(Xy_train, y_train2)"
   ]
  },
  {
   "cell_type": "code",
   "execution_count": 24,
   "id": "492cf261",
   "metadata": {},
   "outputs": [],
   "source": [
    "pred_M2 = clf_M2.predict(Oscar93_test)"
   ]
  },
  {
   "cell_type": "code",
   "execution_count": 25,
   "id": "5cd244b6",
   "metadata": {},
   "outputs": [],
   "source": [
    "Oscar93_y = Oscar93['#_of_wins']\n",
    "Oy_test = []\n",
    "for i in range(len(Oscar93_y)):\n",
    "    if Oscar93_y[i]==0:\n",
    "        Oy_test.append(0)\n",
    "    else:\n",
    "        Oy_test.append(1)"
   ]
  },
  {
   "cell_type": "markdown",
   "id": "22ea74ca",
   "metadata": {},
   "source": [
    "##### Calculating F1-Score"
   ]
  },
  {
   "cell_type": "code",
   "execution_count": 26,
   "id": "d62e3eed",
   "metadata": {},
   "outputs": [
    {
     "name": "stdout",
     "output_type": "stream",
     "text": [
      "binary F1 score:  0.6428571428571429\n"
     ]
    }
   ],
   "source": [
    "binary = f1_score(Oy_test, pred_M2, average='binary')\n",
    "print('binary F1 score: ',binary)"
   ]
  },
  {
   "cell_type": "code",
   "execution_count": 27,
   "id": "b847288a",
   "metadata": {},
   "outputs": [
    {
     "data": {
      "image/png": "[encoded data removed]",
      "text/plain": [
       "<Figure size 432x288 with 2 Axes>"
      ]
     },
     "metadata": {
      "needs_background": "light"
     },
     "output_type": "display_data"
    }
   ],
   "source": [
    "clf = SVC(random_state=0)\n",
    "clf.fit(Xy_train, y_train2)\n",
    "\n",
    "SVC(random_state=0)\n",
    "predictions = clf.predict(Oscar93_test)\n",
    "cm2 = confusion_matrix(Oy_test, pred_M2, labels=clf.classes_)\n",
    "disp = ConfusionMatrixDisplay(confusion_matrix=cm2,display_labels=clf.classes_)\n",
    "disp.plot()\n",
    "\n",
    "plt.show()"
   ]
  },
  {
   "cell_type": "code",
   "execution_count": 28,
   "id": "4d37f879",
   "metadata": {},
   "outputs": [
    {
     "data": {
      "text/plain": [
       "0.7142857142857143"
      ]
     },
     "execution_count": 28,
     "metadata": {},
     "output_type": "execute_result"
    }
   ],
   "source": [
    "sklearn.metrics.accuracy_score(Oy_test, pred_M2)"
   ]
  },
  {
   "cell_type": "markdown",
   "id": "e642bcca",
   "metadata": {},
   "source": [
    "# Method 2 with PCA"
   ]
  },
  {
   "cell_type": "code",
   "execution_count": 29,
   "id": "ce1c9699",
   "metadata": {},
   "outputs": [
    {
     "name": "stdout",
     "output_type": "stream",
     "text": [
      "Explained variation per principal component: [0.36140031 0.32681626]\n",
      "Cumulative variance explained by 2 principal components: 68.82%\n"
     ]
    }
   ],
   "source": [
    "#reducing dimension using PCA.\n",
    "#calculates the % of the data we still have of our original\n",
    "pca_O = PCA(n_components=2)\n",
    "pca_Oresult=pca_O.fit_transform(Oscar93_test)\n",
    "print('Explained variation per principal component: {}'.format(pca_O.explained_variance_ratio_))\n",
    "print('Cumulative variance explained by 2 principal components: {:.2%}'.format(np.sum(pca_O.explained_variance_ratio_)))"
   ]
  },
  {
   "cell_type": "code",
   "execution_count": 30,
   "id": "290ed0a6",
   "metadata": {},
   "outputs": [
    {
     "data": {
      "text/plain": [
       "DecisionTreeClassifier(class_weight='balanced')"
      ]
     },
     "execution_count": 30,
     "metadata": {},
     "output_type": "execute_result"
    }
   ],
   "source": [
    "clf_M2_w = tree.DecisionTreeClassifier(class_weight=\"balanced\")\n",
    "clf_M2_w.fit(pca_M1result_train, y_train2)"
   ]
  },
  {
   "cell_type": "code",
   "execution_count": 31,
   "id": "4dc3a03f",
   "metadata": {},
   "outputs": [],
   "source": [
    "pred_M2_w = clf_M2_w.predict(pca_Oresult)"
   ]
  },
  {
   "cell_type": "markdown",
   "id": "60eb5529",
   "metadata": {},
   "source": [
    "##### Calculating F-1 Score"
   ]
  },
  {
   "cell_type": "code",
   "execution_count": 32,
   "id": "e7e851d0",
   "metadata": {},
   "outputs": [
    {
     "name": "stdout",
     "output_type": "stream",
     "text": [
      "binary F1 score:  0.4347826086956522\n"
     ]
    }
   ],
   "source": [
    "binary = f1_score(Oy_test, pred_M2_w, average='binary')\n",
    "\n",
    "print('binary F1 score: ',binary)"
   ]
  },
  {
   "cell_type": "code",
   "execution_count": 33,
   "id": "da25778d",
   "metadata": {},
   "outputs": [
    {
     "data": {
      "image/png": "[encoded data removed]",
      "text/plain": [
       "<Figure size 432x288 with 2 Axes>"
      ]
     },
     "metadata": {
      "needs_background": "light"
     },
     "output_type": "display_data"
    }
   ],
   "source": [
    "clf = SVC(random_state=0)\n",
    "clf.fit(pca_M1result_train, y_train2)\n",
    "\n",
    "SVC(random_state=0)\n",
    "predictions = clf.predict(pca_Oresult)\n",
    "cm2 = confusion_matrix(Oy_test, pred_M2_w, labels=clf.classes_)\n",
    "disp = ConfusionMatrixDisplay(confusion_matrix=cm2,display_labels=clf.classes_)\n",
    "disp.plot()\n",
    "\n",
    "plt.show()"
   ]
  },
  {
   "cell_type": "markdown",
   "id": "38664149",
   "metadata": {},
   "source": [
    "##### Accuracy"
   ]
  },
  {
   "cell_type": "code",
   "execution_count": 34,
   "id": "71e6be84",
   "metadata": {},
   "outputs": [
    {
     "data": {
      "text/plain": [
       "0.6285714285714286"
      ]
     },
     "execution_count": 34,
     "metadata": {},
     "output_type": "execute_result"
    }
   ],
   "source": [
    "sklearn.metrics.accuracy_score(Oy_test, pred_M2_w)"
   ]
  },
  {
   "cell_type": "markdown",
   "id": "f38adccb",
   "metadata": {},
   "source": [
    "# Method 3 without PCA"
   ]
  },
  {
   "cell_type": "code",
   "execution_count": 35,
   "id": "cc5c0355",
   "metadata": {},
   "outputs": [],
   "source": [
    "raw2 = pd.read_csv('cleaned.csv')\n",
    "\n",
    "le = preprocessing.LabelEncoder()\n",
    "titles5 = list(raw2['title'])\n",
    "le.fit(titles5)\n",
    "encoded_titles5 = le.transform(titles5)\n",
    "raw2['title'] = encoded_titles5\n",
    "\n",
    "# example of a normalization\n",
    "columns = ['title','runtime', 'imdb_score', 'imdb_votes', 'user_review_count', 'critic_review_count','critic_overall_score','critic_positive_score','critic_mixed_score','critic_negative_score','user_overall_score','user_positive_score','user_mixed_score','user_negative_score','#_of_nominations','#_of_wins']\n",
    "\n",
    "# convert numerical-object to numericals\n",
    "for col in columns:\n",
    "    raw2[col] = raw2[col].replace('[^.0-9]', '', regex=True,).astype(float).fillna(0.0)\n",
    "\n",
    "    # clean textual classes\n",
    "for col in raw2.select_dtypes(include='object').columns:\n",
    "        raw2[col] = raw2[col].str.upper().replace('Z_','',regex=True).replace('[^A-Z]','',regex=True)\n",
    "        \n",
    "data_types5 = {f:t for f,t in zip(raw.columns,raw.dtypes)}\n",
    "\n",
    "# copy df\n",
    "df5 = raw2.copy()\n",
    "df5 = df5.drop(labels=['title'],axis=1)\n",
    "df5 = df5.drop(labels=['#_of_wins'],axis=1)\n",
    "\n",
    "data_meta5 = pd.DataFrame(df5.nunique(),columns=['num'],index=None).sort_values('num').reset_index()\n",
    "data_meta5.columns = ['name','num']\n",
    "data_meta5['type'] = 'numerical'\n",
    "#print(data_meta)\n",
    "\n",
    "\n",
    "#data_meta.loc[(data_meta['num']<=15) & (~data_meta['name'].isin(['category','name','winner'])),'type']='categorical'\n",
    "data_meta5.loc[data_meta5['name'].isin(['category','name']),'type']='categorical'\n",
    "\n",
    "categorical_features5 = list(data_meta5.loc[data_meta5['type']=='categorical','name'])\n",
    "numerical_features5 = list(data_meta5.loc[data_meta5['type']=='numerical','name'])\n",
    "#print(numerical_features)\n",
    "\n",
    "\n",
    "# Standard Scaled \"mean normalisation\"\n",
    "scaler5 = StandardScaler()\n",
    "scaler5.fit(df5[numerical_features5])\n",
    "#print(\"Feature Means:\\t\",[f\"{x:.2}\" for x in scaler.mean_])\n",
    "numerical_data5 = scaler5.transform(df5[numerical_features5])\n",
    "numerical_data5 = pd.DataFrame(numerical_data5,index=df5.index,columns=numerical_features5)\n",
    "numerical_data5[:2]\n",
    "\n",
    "\n",
    "\n",
    "scaler5 = MinMaxScaler(feature_range=(0,1))\n",
    "scaler5.fit(df5[numerical_features5])\n",
    "numerical_data5 = scaler5.transform(df5[numerical_features5])\n",
    "numerical_data5 = pd.DataFrame(numerical_data5,index=df5.index,columns=numerical_features5)\n",
    "numerical_data5[:2]\n",
    "\n",
    "\n",
    "# nominal_features5 = [c for c in categorical_features]\n",
    "# #print(\"Nominals:\\n\",nominal_features)\n",
    "\n",
    "# nominal_data = list()\n",
    "# for i,x in df[nominal_features].nunique().iteritems():\n",
    "#     if x <= 2:\n",
    "#         nominal_data.append(pd.get_dummies(df[[i]],drop_first=True))\n",
    "#     elif x > 2:\n",
    "#         nominal_data.append(pd.get_dummies(df[[i]],drop_first=False))\n",
    "        \n",
    "#nominal_data = pd.concat(nominal_data,axis=1)\n",
    "\n",
    "# transformed and scaled dataset\n",
    "Xy_scaled_M3 = pd.concat([numerical_data5],axis=1)\n",
    "#print(f'Data min:max {Xy_scaled.min().min(),Xy_scaled.max().max()}')\n",
    "\n",
    "# original data\n",
    "Xy_original_M3 = df5[numerical_features5].copy()"
   ]
  },
  {
   "cell_type": "code",
   "execution_count": 36,
   "id": "2ec7dc69",
   "metadata": {},
   "outputs": [],
   "source": [
    "#Match the column index\n",
    "Xy_M3 = Xy_scaled_M3.reindex(columns=sorted(Xy_scaled_M3.columns))\n",
    "Oscar93_test = Oscar93_test.reindex(columns=sorted(Oscar93_test.columns))"
   ]
  },
  {
   "cell_type": "code",
   "execution_count": 37,
   "id": "832ee642",
   "metadata": {},
   "outputs": [],
   "source": [
    "Xy_M3_train = raw2.copy()\n",
    "Xy_M3_train = Xy_M3_train['#_of_wins']\n",
    "Xy_M3_train = np.array(Xy_M3_train)\n",
    "Xy_M3_train_y =[]\n",
    "for i in range(len(Xy_M3_train)):\n",
    "    if Xy_M3_train[i]==0:\n",
    "        Xy_M3_train_y.append(0)\n",
    "    else:\n",
    "        Xy_M3_train_y.append(1)"
   ]
  },
  {
   "cell_type": "code",
   "execution_count": 38,
   "id": "821051f2",
   "metadata": {},
   "outputs": [
    {
     "data": {
      "text/plain": [
       "DecisionTreeClassifier(class_weight='balanced')"
      ]
     },
     "execution_count": 38,
     "metadata": {},
     "output_type": "execute_result"
    }
   ],
   "source": [
    "clf_M3 = tree.DecisionTreeClassifier(class_weight=\"balanced\")\n",
    "clf_M3.fit(Xy_M3, Xy_M3_train_y)"
   ]
  },
  {
   "cell_type": "code",
   "execution_count": 39,
   "id": "3a9b86fe",
   "metadata": {},
   "outputs": [],
   "source": [
    "pred_M3 = clf_M3.predict(Oscar93_test)"
   ]
  },
  {
   "cell_type": "markdown",
   "id": "0380a6ef",
   "metadata": {},
   "source": [
    "##### Calculating F-1 Score"
   ]
  },
  {
   "cell_type": "code",
   "execution_count": 40,
   "id": "c3e5216e",
   "metadata": {},
   "outputs": [
    {
     "name": "stdout",
     "output_type": "stream",
     "text": [
      "binary F1 score:  0.6428571428571429\n"
     ]
    }
   ],
   "source": [
    "binary = f1_score(Oy_test, pred_M3, average='binary')\n",
    "\n",
    "print('binary F1 score: ',binary)"
   ]
  },
  {
   "cell_type": "code",
   "execution_count": 41,
   "id": "de80435a",
   "metadata": {},
   "outputs": [
    {
     "data": {
      "image/png": "[encoded data removed]",
      "text/plain": [
       "<Figure size 432x288 with 2 Axes>"
      ]
     },
     "metadata": {
      "needs_background": "light"
     },
     "output_type": "display_data"
    }
   ],
   "source": [
    "clf = SVC(random_state=0)\n",
    "clf.fit(Xy_M3, Xy_M3_train_y)\n",
    "\n",
    "SVC(random_state=0)\n",
    "predictions = clf.predict(Oscar93_test)\n",
    "cm2 = confusion_matrix(Oy_test, pred_M3, labels=clf.classes_)\n",
    "disp = ConfusionMatrixDisplay(confusion_matrix=cm2,display_labels=clf.classes_)\n",
    "disp.plot()\n",
    "\n",
    "plt.show()"
   ]
  },
  {
   "cell_type": "code",
   "execution_count": 42,
   "id": "c914d251",
   "metadata": {},
   "outputs": [
    {
     "data": {
      "text/plain": [
       "0.7142857142857143"
      ]
     },
     "execution_count": 42,
     "metadata": {},
     "output_type": "execute_result"
    }
   ],
   "source": [
    "sklearn.metrics.accuracy_score(Oy_test, pred_M3)"
   ]
  },
  {
   "cell_type": "markdown",
   "id": "4ad450ff",
   "metadata": {},
   "source": [
    "# Method 3 with PCA"
   ]
  },
  {
   "cell_type": "code",
   "execution_count": 43,
   "id": "a7ae9344",
   "metadata": {},
   "outputs": [
    {
     "name": "stdout",
     "output_type": "stream",
     "text": [
      "Explained variation per principal component: [0.44986421 0.19022574]\n",
      "Cumulative variance explained by 2 principal components: 64.01%\n"
     ]
    }
   ],
   "source": [
    "#reducing dimension using PCA.\n",
    "#calculates the % of the data we still have of our original\n",
    "pca_M3 = PCA(n_components=2)\n",
    "pca_M3result=pca_M3.fit_transform(Xy_M3)\n",
    "print('Explained variation per principal component: {}'.format(pca_M3.explained_variance_ratio_))\n",
    "print('Cumulative variance explained by 2 principal components: {:.2%}'.format(np.sum(pca_M3.explained_variance_ratio_)))"
   ]
  },
  {
   "cell_type": "code",
   "execution_count": 44,
   "id": "38bc28b0",
   "metadata": {},
   "outputs": [
    {
     "data": {
      "text/plain": [
       "DecisionTreeClassifier(class_weight='balanced')"
      ]
     },
     "execution_count": 44,
     "metadata": {},
     "output_type": "execute_result"
    }
   ],
   "source": [
    "clf_M3_w = tree.DecisionTreeClassifier(class_weight=\"balanced\")\n",
    "clf_M3_w.fit(pca_M3result,Xy_M3_train_y)"
   ]
  },
  {
   "cell_type": "code",
   "execution_count": 45,
   "id": "18c393e8",
   "metadata": {},
   "outputs": [],
   "source": [
    "pred_M3_w = clf_M3_w.predict(pca_Oresult)"
   ]
  },
  {
   "cell_type": "code",
   "execution_count": 46,
   "id": "80778732",
   "metadata": {},
   "outputs": [
    {
     "name": "stdout",
     "output_type": "stream",
     "text": [
      "binary F1 score:  0.28571428571428564\n"
     ]
    }
   ],
   "source": [
    "binary = f1_score(Oy_test, pred_M3_w, average='binary')\n",
    "\n",
    "print('binary F1 score: ',binary)"
   ]
  },
  {
   "cell_type": "code",
   "execution_count": 47,
   "id": "b31f9bd3",
   "metadata": {},
   "outputs": [
    {
     "data": {
      "image/png": "[encoded data removed]",
      "text/plain": [
       "<Figure size 432x288 with 2 Axes>"
      ]
     },
     "metadata": {
      "needs_background": "light"
     },
     "output_type": "display_data"
    }
   ],
   "source": [
    "clf = SVC(random_state=0)\n",
    "clf.fit(pca_M3result, Xy_M3_train_y)\n",
    "\n",
    "SVC(random_state=0)\n",
    "predictions = clf.predict(pca_Oresult)\n",
    "cm2 = confusion_matrix(Oy_test, pred_M3_w, labels=clf.classes_)\n",
    "disp = ConfusionMatrixDisplay(confusion_matrix=cm2,display_labels=clf.classes_)\n",
    "disp.plot()\n",
    "\n",
    "plt.show()"
   ]
  },
  {
   "cell_type": "code",
   "execution_count": 48,
   "id": "c18dcd96",
   "metadata": {},
   "outputs": [
    {
     "data": {
      "text/plain": [
       "0.5714285714285714"
      ]
     },
     "execution_count": 48,
     "metadata": {},
     "output_type": "execute_result"
    }
   ],
   "source": [
    "sklearn.metrics.accuracy_score(Oy_test, pred_M3_w)"
   ]
  },
  {
   "cell_type": "code",
   "execution_count": null,
   "id": "656f6dc2",
   "metadata": {},
   "outputs": [],
   "source": []
  }
 ],
 "metadata": {
  "anaconda-cloud": {},
  "kernelspec": {
   "display_name": "Python 3",
   "language": "python",
   "name": "python3"
  },
  "language_info": {
   "codemirror_mode": {
    "name": "ipython",
    "version": 3
   },
   "file_extension": ".py",
   "mimetype": "text/x-python",
   "name": "python",
   "nbconvert_exporter": "python",
   "pygments_lexer": "ipython3",
   "version": "3.8.8"
  }
 },
 "nbformat": 4,
 "nbformat_minor": 5
}
