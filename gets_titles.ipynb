{
 "cells": [
  {
   "cell_type": "code",
   "execution_count": null,
   "id": "3e71484e",
   "metadata": {},
   "outputs": [],
   "source": [
    "import numpy as np\n",
    "\n",
    "Big = []\n",
    "for i in range(2):\n",
    "    cluster = []\n",
    "    for j in range(len(kmeans.labels_)):\n",
    "        if kmeans.labels_[j] == i:\n",
    "            cluster.append(j)\n",
    "    Big.append(cluster)\n",
    "\n",
    "Big = np.asarray(Big)\n",
    "\n",
    "\n",
    "\n",
    "raw_2 = pd.read_csv('cleaned.csv')\n",
    "pred_2 = pd.read_csv('test_data.csv')\n",
    "\n",
    "titles_raw = list(raw_2['title'])\n",
    "titles_pred = list(pred_2['title'])\n",
    "\n",
    "\n",
    "\n",
    "\n",
    "Cluster_title = []\n",
    "for clusters in Big:\n",
    "    C = []\n",
    "    for i in clusters:\n",
    "        C.append(titles_raw[i])\n",
    "    Cluster_title.append(C)\n",
    "    \n",
    "Big_2 = []\n",
    "for i in range(len(Cluster_title)):\n",
    "    Big_2.append(np.squeeze(Cluster_title[i]))"
   ]
  }
 ],
 "metadata": {
  "kernelspec": {
   "display_name": "Python 3",
   "language": "python",
   "name": "python3"
  },
  "language_info": {
   "codemirror_mode": {
    "name": "ipython",
    "version": 3
   },
   "file_extension": ".py",
   "mimetype": "text/x-python",
   "name": "python",
   "nbconvert_exporter": "python",
   "pygments_lexer": "ipython3",
   "version": "3.8.8"
  }
 },
 "nbformat": 4,
 "nbformat_minor": 5
}
