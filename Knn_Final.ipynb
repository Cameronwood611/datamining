{
 "cells": [
  {
   "cell_type": "markdown",
   "id": "6e1a003a",
   "metadata": {},
   "source": [
    "# K-Means\n",
    "\n",
    "Here we use random initializaiton which chooses two rows at random from our training data."
   ]
  },
  {
   "cell_type": "code",
   "execution_count": 1,
   "id": "671e39c7",
   "metadata": {},
   "outputs": [],
   "source": [
    "from __future__ import print_function\n",
    "import time\n",
    "import sklearn\n",
    "import numpy as np\n",
    "import pandas as pd\n",
    "from sklearn.decomposition import PCA\n",
    "from sklearn.manifold import TSNE\n",
    "%matplotlib inline\n",
    "import matplotlib.pyplot as plt\n",
    "from mpl_toolkits.mplot3d import Axes3D\n",
    "import seaborn as sns\n",
    "from sklearn.cluster import KMeans\n",
    "from sklearn import preprocessing\n",
    "from numpy import asarray\n",
    "from sklearn.preprocessing import MinMaxScaler\n",
    "from sklearn.preprocessing import scale,RobustScaler,StandardScaler, MinMaxScaler\n",
    "from sklearn.cluster import KMeans\n",
    "from matplotlib import cm\n",
    "from sklearn.manifold import TSNE\n",
    "from sklearn.datasets import make_blobs\n",
    "import sklearn.metrics as metrics\n",
    "import sklearn.metrics as metrics\n",
    "from sklearn.metrics import silhouette_samples, silhouette_score\n",
    "from sklearn.model_selection import ParameterGrid\n",
    "from sklearn.svm import SVC\n",
    "import matplotlib.pyplot as plt\n",
    "from sklearn.datasets import make_classification\n",
    "from sklearn.metrics import confusion_matrix, ConfusionMatrixDisplay\n",
    "from sklearn.model_selection import train_test_split\n",
    "from sklearn.metrics import f1_score"
   ]
  },
  {
   "cell_type": "markdown",
   "id": "f7d1987f",
   "metadata": {},
   "source": [
    "## Method 1 without PCA:\n",
    "\n",
    "Oscar_92:\n",
    "- 75% train\n",
    "- 25% test"
   ]
  },
  {
   "cell_type": "code",
   "execution_count": 2,
   "id": "3b684490",
   "metadata": {},
   "outputs": [],
   "source": [
    "raw = pd.read_csv('cleaned.csv')"
   ]
  },
  {
   "cell_type": "markdown",
   "id": "9f04685c",
   "metadata": {},
   "source": [
    "#### Split our dataset"
   ]
  },
  {
   "cell_type": "code",
   "execution_count": 3,
   "id": "f6c72d85",
   "metadata": {},
   "outputs": [],
   "source": [
    "train, test = train_test_split(raw, test_size=0.25)"
   ]
  },
  {
   "cell_type": "markdown",
   "id": "ea2b8bc0",
   "metadata": {},
   "source": [
    "##### Pre-processing Dataset"
   ]
  },
  {
   "cell_type": "code",
   "execution_count": 4,
   "id": "01c9e780",
   "metadata": {},
   "outputs": [],
   "source": [
    "le = preprocessing.LabelEncoder()\n",
    "title = list(train['title'])\n",
    "le.fit(title)\n",
    "encoded_titles = le.transform(title)\n",
    "train['title'] = encoded_titles\n",
    "\n",
    "# example of a normalization\n",
    "columns = ['title','runtime', 'imdb_score', 'imdb_votes', 'user_review_count', 'critic_review_count','critic_overall_score','critic_positive_score','critic_mixed_score','critic_negative_score','user_overall_score','user_positive_score','user_mixed_score','user_negative_score','#_of_nominations','#_of_wins']\n",
    "\n",
    "# convert numerical-object to numericals\n",
    "for col in columns:\n",
    "    train[col] = train[col].replace('[^.0-9]', '', regex=True,).astype(float).fillna(0.0)\n",
    "\n",
    "    # clean textual classes\n",
    "for col in train.select_dtypes(include='object').columns:\n",
    "    train[col] = train[col].str.upper().replace('Z_','',regex=True).replace('[^A-Z]','',regex=True)\n",
    "        \n",
    "data_types = {f:t for f,t in zip(train.columns,train.dtypes)}\n",
    "\n",
    "# copy df\n",
    "df = train.copy()\n",
    "df = df.drop(labels=['title'],axis=1)\n",
    "df = df.drop(labels=['#_of_wins'],axis=1)\n",
    "\n",
    "#print(df)\n",
    "data_meta = pd.DataFrame(df.nunique(),columns=['num'],index=None).sort_values('num').reset_index()\n",
    "data_meta.columns = ['name','num']\n",
    "data_meta['type'] = 'numerical'\n",
    "#print(data_meta)\n",
    "\n",
    "#print(data_meta)\n",
    "\n",
    "#data_meta.loc[(data_meta['num']<=15) & (~data_meta['name'].isin(['category','name','winner'])),'type']='categorical'\n",
    "data_meta.loc[data_meta['name'].isin(['category','name']),'type']='categorical'\n",
    "\n",
    "categorical_features = list(data_meta.loc[data_meta['type']=='categorical','name'])\n",
    "numerical_features = list(data_meta.loc[data_meta['type']=='numerical','name'])\n",
    "#print(numerical_features)\n",
    "\n",
    "\n",
    "# Standard Scaled \"mean normalisation\"\n",
    "scaler = StandardScaler()\n",
    "scaler.fit(df[numerical_features])\n",
    "#print(\"Feature Means:\\t\",[f\"{x:.2}\" for x in scaler.mean_])\n",
    "numerical_data = scaler.transform(df[numerical_features])\n",
    "numerical_data = pd.DataFrame(numerical_data,index=df.index,columns=numerical_features)\n",
    "numerical_data[:2]\n",
    "\n",
    "#print(numerical_data)\n",
    "\n",
    "scaler = MinMaxScaler(feature_range=(0,1))\n",
    "scaler.fit(df[numerical_features])\n",
    "numerical_data = scaler.transform(df[numerical_features])\n",
    "numerical_data = pd.DataFrame(numerical_data,index=df.index,columns=numerical_features)\n",
    "numerical_data[:2]\n",
    "\n",
    "\n",
    "# nominal_features = [c for c in categorical_features]\n",
    "# #print(\"Nominals:\\n\",nominal_features)\n",
    "\n",
    "# nominal_data = list()\n",
    "# for i,x in df[nominal_features].nunique().iteritems():\n",
    "#     if x <= 2:\n",
    "#         nominal_data.append(pd.get_dummies(df[[i]],drop_first=True))\n",
    "#     elif x > 2:\n",
    "#         nominal_data.append(pd.get_dummies(df[[i]],drop_first=False))\n",
    "        \n",
    "#nominal_data = pd.concat(nominal_data,axis=1)\n",
    "\n",
    "# transformed and scaled dataset\n",
    "Xy_train = pd.concat([numerical_data],axis=1)\n",
    "#print(f'Data min:max {Xy_scaled.min().min(),Xy_scaled.max().max()}')\n",
    "\n",
    "# original data\n",
    "Xy_original = df[numerical_features].copy()"
   ]
  },
  {
   "cell_type": "code",
   "execution_count": 5,
   "id": "6690593e",
   "metadata": {},
   "outputs": [],
   "source": [
    "titles2 = list(test['title'])\n",
    "le.fit(titles2)\n",
    "encoded_titles2 = le.transform(titles2)\n",
    "test['title'] = encoded_titles2\n",
    "\n",
    "# example of a normalization\n",
    "columns = ['title','runtime', 'imdb_score', 'imdb_votes', 'user_review_count', 'critic_review_count','critic_overall_score','critic_positive_score','critic_mixed_score','critic_negative_score','user_overall_score','user_positive_score','user_mixed_score','user_negative_score','#_of_nominations','#_of_wins']\n",
    "\n",
    "# convert numerical-object to numericals\n",
    "for col in columns:\n",
    "    test[col] = test[col].replace('[^.0-9]', '', regex=True,).astype(float).fillna(0.0)\n",
    "\n",
    "    # clean textual classes\n",
    "for col in test.select_dtypes(include='object').columns:\n",
    "    test[col] = test[col].str.upper().replace('Z_','',regex=True).replace('[^A-Z]','',regex=True)\n",
    "        \n",
    "data_types = {f:t for f,t in zip(test.columns,test.dtypes)}\n",
    "\n",
    "# copy df\n",
    "dp = test.copy()\n",
    "dp = dp.drop(labels=['title'],axis=1)\n",
    "dp = dp.drop(labels=['#_of_wins'],axis=1)\n",
    "\n",
    "\n",
    "data_meta2 = pd.DataFrame(dp.nunique(),columns=['num'],index=None).sort_values('num').reset_index()\n",
    "data_meta2.columns = ['name','num']\n",
    "data_meta2['type'] = 'numerical'\n",
    "#print(data_meta)\n",
    "\n",
    "\n",
    "#data_meta.loc[(data_meta['num']<=15) & (~data_meta['name'].isin(['category','name','winner'])),'type']='categorical'\n",
    "data_meta2.loc[data_meta2['name'].isin(['category','name']),'type']='categorical'\n",
    "\n",
    "#categorical_features2 = list(data_meta2.loc[data_meta2['type']=='categorical','name'])\n",
    "numerical_features2 = list(data_meta2.loc[data_meta2['type']=='numerical','name'])\n",
    "#print(numerical_features)\n",
    "\n",
    "\n",
    "# Standard Scaled \"mean normalisation\"\n",
    "scaler2 = StandardScaler()\n",
    "scaler2.fit(dp[numerical_features2])\n",
    "#print(\"Feature Means:\\t\",[f\"{x:.2}\" for x in scaler.mean_])\n",
    "numerical_data2 = scaler2.transform(dp[numerical_features2])\n",
    "numerical_data2 = pd.DataFrame(numerical_data2,index=dp.index,columns=numerical_features2)\n",
    "numerical_data2[:2]\n",
    "\n",
    "\n",
    "\n",
    "scaler2 = MinMaxScaler(feature_range=(0,1))\n",
    "scaler2.fit(dp[numerical_features2])\n",
    "numerical_data2 = scaler2.transform(dp[numerical_features2])\n",
    "numerical_data2 = pd.DataFrame(numerical_data2,index=dp.index,columns=numerical_features2)\n",
    "numerical_data2[:2]\n",
    "\n",
    "\n",
    "# nominal_features = [c for c in categorical_features]\n",
    "# print(\"Nominals:\\n\",nominal_features)\n",
    "\n",
    "# nominal_data = list()\n",
    "# for i,x in df[nominal_features].nunique().iteritems():\n",
    "#     if x <= 2:\n",
    "#         nominal_data.append(pd.get_dummies(df[[i]],drop_first=True))\n",
    "#     elif x > 2:\n",
    "#         nominal_data.append(pd.get_dummies(df[[i]],drop_first=False))\n",
    "        \n",
    "# nominal_data = pd.concat(nominal_data,axis=1)\n",
    "\n",
    "# transformed and scaled dataset\n",
    "Xy_test = pd.concat([numerical_data2],axis=1)\n",
    "#print(f'Data min:max {Xy_scaled.min().min(),Xy_scaled.max().max()}')\n",
    "\n",
    "# original data\n",
    "Xy_original_dp = dp[numerical_features2].copy()"
   ]
  },
  {
   "cell_type": "code",
   "execution_count": 6,
   "id": "c9989499",
   "metadata": {},
   "outputs": [],
   "source": [
    "#Match the column index\n",
    "Xy_train = Xy_train.reindex(columns=sorted(Xy_train.columns))\n",
    "Xy_test = Xy_test.reindex(columns=sorted(Xy_test.columns))"
   ]
  },
  {
   "cell_type": "code",
   "execution_count": 7,
   "id": "4fa2e2cc",
   "metadata": {},
   "outputs": [],
   "source": [
    "kmeans = KMeans(n_clusters=2, init='random').fit(Xy_train)"
   ]
  },
  {
   "cell_type": "code",
   "execution_count": 8,
   "id": "ed2281ac",
   "metadata": {},
   "outputs": [],
   "source": [
    "pred = kmeans.predict(Xy_test)"
   ]
  },
  {
   "cell_type": "code",
   "execution_count": 9,
   "id": "a1701677",
   "metadata": {},
   "outputs": [],
   "source": [
    "y_train = train['#_of_wins']\n",
    "y_train = np.array(y_train)\n",
    "\n",
    "y_test = test['#_of_wins']\n",
    "y_test = np.array(y_test)\n",
    "\n",
    "y_train2=[]\n",
    "for i in range(len(y_train)):\n",
    "    if y_train[i]==0:\n",
    "        y_train2.append(0)\n",
    "    else:\n",
    "        y_train2.append(1)\n",
    "        \n",
    "\n",
    "y_test2=[]\n",
    "for i in range(len(y_test)):\n",
    "    if y_test[i]==0:\n",
    "        y_test2.append(0)\n",
    "    else:\n",
    "        y_test2.append(1)\n"
   ]
  },
  {
   "cell_type": "markdown",
   "id": "a2fe7faa",
   "metadata": {},
   "source": [
    "##### Calculating F1-Score"
   ]
  },
  {
   "cell_type": "code",
   "execution_count": 10,
   "id": "a4efbc28",
   "metadata": {},
   "outputs": [
    {
     "name": "stdout",
     "output_type": "stream",
     "text": [
      "binary F1 score:  0.4973821989528796\n"
     ]
    }
   ],
   "source": [
    "binary = f1_score(y_test2, pred, average='binary')\n",
    "\n",
    "print('binary F1 score: ',binary)"
   ]
  },
  {
   "cell_type": "code",
   "execution_count": 11,
   "id": "2746a18f",
   "metadata": {},
   "outputs": [
    {
     "data": {
      "image/png": "[encoded data removed]",
      "text/plain": [
       "<Figure size 432x288 with 2 Axes>"
      ]
     },
     "metadata": {
      "needs_background": "light"
     },
     "output_type": "display_data"
    }
   ],
   "source": [
    "clf = SVC(random_state=0)\n",
    "clf.fit(Xy_train, y_train2)\n",
    "\n",
    "SVC(random_state=0)\n",
    "predictions = clf.predict(Xy_test)\n",
    "cm2 = confusion_matrix(y_test2, pred, labels=clf.classes_)\n",
    "disp = ConfusionMatrixDisplay(confusion_matrix=cm2,display_labels=clf.classes_)\n",
    "disp.plot()\n",
    "\n",
    "plt.show()"
   ]
  },
  {
   "cell_type": "markdown",
   "id": "15bd0074",
   "metadata": {},
   "source": [
    "##### Accuracy"
   ]
  },
  {
   "cell_type": "code",
   "execution_count": 12,
   "id": "2c2c9b3f",
   "metadata": {},
   "outputs": [
    {
     "data": {
      "text/plain": [
       "0.4251497005988024"
      ]
     },
     "execution_count": 12,
     "metadata": {},
     "output_type": "execute_result"
    }
   ],
   "source": [
    "sklearn.metrics.accuracy_score(y_test2, pred)"
   ]
  },
  {
   "cell_type": "markdown",
   "id": "e458c2cd",
   "metadata": {},
   "source": [
    "# Method 2 with PCA"
   ]
  },
  {
   "cell_type": "code",
   "execution_count": 13,
   "id": "7603fe4b",
   "metadata": {},
   "outputs": [
    {
     "name": "stdout",
     "output_type": "stream",
     "text": [
      "Explained variation per principal component: [0.43188329 0.19028789]\n",
      "Cumulative variance explained by 2 principal components: 62.22%\n"
     ]
    }
   ],
   "source": [
    "#reducing dimension using PCA.\n",
    "#calculates the % of the data we still have of our original\n",
    "pca_2 = PCA(n_components=2)\n",
    "pca_2result=pca_2.fit_transform(Xy_train)\n",
    "print('Explained variation per principal component: {}'.format(pca_2.explained_variance_ratio_))\n",
    "print('Cumulative variance explained by 2 principal components: {:.2%}'.format(np.sum(pca_2.explained_variance_ratio_)))"
   ]
  },
  {
   "cell_type": "code",
   "execution_count": 14,
   "id": "cd842ad1",
   "metadata": {},
   "outputs": [],
   "source": [
    "# candidate values for our cluster\n",
    "candidate_values = [2,3,4,5,6]\n",
    "\n",
    "# instantiating ParameterGrid, pass number of clusters as input\n",
    "parameter_grid = ParameterGrid({'n_clusters': candidate_values})"
   ]
  },
  {
   "cell_type": "code",
   "execution_count": 15,
   "id": "d8ce231f",
   "metadata": {},
   "outputs": [
    {
     "name": "stdout",
     "output_type": "stream",
     "text": [
      "Parameter: {'n_clusters': 2} Score 0.5920498603150005\n",
      "Parameter: {'n_clusters': 3} Score 0.49846244092307246\n",
      "Parameter: {'n_clusters': 4} Score 0.44067443879286017\n",
      "Parameter: {'n_clusters': 5} Score 0.4185006017176219\n",
      "Parameter: {'n_clusters': 6} Score 0.3915239103861084\n"
     ]
    },
    {
     "data": {
      "image/png": "[encoded data removed]",
      "text/plain": [
       "<Figure size 432x288 with 1 Axes>"
      ]
     },
     "metadata": {
      "needs_background": "light"
     },
     "output_type": "display_data"
    }
   ],
   "source": [
    "#picking the best K_means model\n",
    "best_score = -1\n",
    "kmeans_model = KMeans()     # instantiating KMeans model\n",
    "silhouette_scores = []\n",
    "\n",
    "# evaluation based on silhouette_score\n",
    "for p in parameter_grid:\n",
    "    kmeans_model.set_params(**p)    # set current hyper parameter\n",
    "    kmeans_model.fit(pca_2result)         # fit model on wine dataset, this will find clusters based on parameter p\n",
    "    ss = metrics.silhouette_score(pca_2result, kmeans_model.labels_)   # calculate silhouette_score\n",
    "    silhouette_scores += [ss]       # store all the scores\n",
    "    print('Parameter:', p, 'Score', ss)\n",
    "    # check p which has the best score\n",
    "    if ss > best_score:\n",
    "        best_score = ss\n",
    "        best_grid = p\n",
    "# plotting silhouette score\n",
    "plt.bar(range(len(silhouette_scores)), list(silhouette_scores), align='center', color='#722f59', width=0.5)\n",
    "plt.xticks(range(len(silhouette_scores)), list(candidate_values))\n",
    "plt.title('Silhouette Score', fontweight='bold')\n",
    "plt.xlabel('Number of Clusters')\n",
    "plt.show()"
   ]
  },
  {
   "cell_type": "code",
   "execution_count": 16,
   "id": "ad7fd16a",
   "metadata": {},
   "outputs": [
    {
     "data": {
      "text/plain": [
       "KMeans(init='random', n_clusters=2)"
      ]
     },
     "execution_count": 16,
     "metadata": {},
     "output_type": "execute_result"
    }
   ],
   "source": [
    "#We will now apply K-Means\n",
    "# fitting KMeans    \n",
    "optimum_num_clusters = 2\n",
    "kmeans = KMeans(n_clusters= optimum_num_clusters,init=\"random\")\n",
    "kmeans.fit(pca_2result)\n",
    "#kmeans.fit(Xy_scaled)"
   ]
  },
  {
   "cell_type": "code",
   "execution_count": 17,
   "id": "84987470",
   "metadata": {},
   "outputs": [
    {
     "name": "stdout",
     "output_type": "stream",
     "text": [
      "Explained variation per principal component: [0.38579115 0.17706407]\n",
      "Cumulative variance explained by 2 principal components: 56.29%\n"
     ]
    }
   ],
   "source": [
    "#reducing dimension using PCA.\n",
    "#calculates the % of the data we still have of our original\n",
    "pca_3 = PCA(n_components=2)\n",
    "pca_3result=pca_2.fit_transform(Xy_test)\n",
    "print('Explained variation per principal component: {}'.format(pca_2.explained_variance_ratio_))\n",
    "print('Cumulative variance explained by 2 principal components: {:.2%}'.format(np.sum(pca_2.explained_variance_ratio_)))"
   ]
  },
  {
   "cell_type": "code",
   "execution_count": 18,
   "id": "48f2c0e1",
   "metadata": {},
   "outputs": [],
   "source": [
    "pred2 = kmeans.predict(pca_3result)"
   ]
  },
  {
   "cell_type": "markdown",
   "id": "00b996a3",
   "metadata": {},
   "source": [
    "##### Calculating F-1 Score"
   ]
  },
  {
   "cell_type": "code",
   "execution_count": 19,
   "id": "306c4cb9",
   "metadata": {},
   "outputs": [
    {
     "name": "stdout",
     "output_type": "stream",
     "text": [
      "binary F1 score:  0.39560439560439564\n"
     ]
    }
   ],
   "source": [
    "binary = f1_score(y_test2, pred2, average='binary')\n",
    "\n",
    "print('binary F1 score: ',binary)"
   ]
  },
  {
   "cell_type": "code",
   "execution_count": 20,
   "id": "ad5940d3",
   "metadata": {},
   "outputs": [
    {
     "data": {
      "image/png": "[encoded data removed]",
      "text/plain": [
       "<Figure size 432x288 with 2 Axes>"
      ]
     },
     "metadata": {
      "needs_background": "light"
     },
     "output_type": "display_data"
    }
   ],
   "source": [
    "clf = SVC(random_state=0)\n",
    "clf.fit(pca_2result, y_train2)\n",
    "\n",
    "SVC(random_state=0)\n",
    "predictions = clf.predict(pca_3result)\n",
    "cm2 = confusion_matrix(y_test2, pred2, labels=clf.classes_)\n",
    "disp = ConfusionMatrixDisplay(confusion_matrix=cm2,display_labels=clf.classes_)\n",
    "disp.plot()\n",
    "\n",
    "plt.show()"
   ]
  },
  {
   "cell_type": "markdown",
   "id": "f82835b9",
   "metadata": {},
   "source": [
    "##### Accuracy based on Confusion Matrix"
   ]
  },
  {
   "cell_type": "code",
   "execution_count": 21,
   "id": "5b1f8032",
   "metadata": {},
   "outputs": [
    {
     "data": {
      "text/plain": [
       "0.3413173652694611"
      ]
     },
     "execution_count": 21,
     "metadata": {},
     "output_type": "execute_result"
    }
   ],
   "source": [
    "sklearn.metrics.accuracy_score(y_test2, pred2)"
   ]
  },
  {
   "cell_type": "code",
   "execution_count": 22,
   "id": "0d01cc2a",
   "metadata": {},
   "outputs": [],
   "source": [
    "from sklearn.cluster import KMeans\n",
    "from matplotlib import cm\n",
    "from sklearn.manifold import TSNE\n",
    "from sklearn.datasets import make_blobs\n",
    "from sklearn.metrics import silhouette_samples, silhouette_score"
   ]
  },
  {
   "cell_type": "code",
   "execution_count": 23,
   "id": "95cac0de",
   "metadata": {},
   "outputs": [
    {
     "data": {
      "image/png": "[encoded data removed]",
      "text/plain": [
       "<Figure size 432x288 with 1 Axes>"
      ]
     },
     "metadata": {
      "needs_background": "light"
     },
     "output_type": "display_data"
    }
   ],
   "source": [
    "Xy_ = pca_2result\n",
    "clusters_ = kmeans.labels_\n",
    "#Xy_,clusters_ = make_blobs(n_samples=4000, centers=5, cluster_std=0.7)\n",
    "df_ = pd.DataFrame(Xy_,columns=['X','Y'])\n",
    "df_['K'] = clusters_\n",
    "sns.scatterplot(x='X',y='Y',hue='K',data=df_);"
   ]
  },
  {
   "cell_type": "markdown",
   "id": "9dfd43a3",
   "metadata": {},
   "source": [
    "## Method 2 without PCA"
   ]
  },
  {
   "cell_type": "code",
   "execution_count": 24,
   "id": "48d5bd44",
   "metadata": {},
   "outputs": [],
   "source": [
    "Oscar93=pd.read_csv('93rd_test_data.csv')"
   ]
  },
  {
   "cell_type": "code",
   "execution_count": 25,
   "id": "8abb0e49",
   "metadata": {},
   "outputs": [],
   "source": [
    "le = preprocessing.LabelEncoder()\n",
    "title3 = list(Oscar93['title'])\n",
    "le.fit(title3)\n",
    "encoded_titles3 = le.transform(title3)\n",
    "Oscar93['title'] = encoded_titles3\n",
    "\n",
    "# example of a normalization\n",
    "columns = ['title','runtime', 'imdb_score', 'imdb_votes', 'user_review_count', 'critic_review_count','critic_overall_score','critic_positive_score','critic_mixed_score','critic_negative_score','user_overall_score','user_positive_score','user_mixed_score','user_negative_score','#_of_nominations','#_of_wins']\n",
    "\n",
    "# convert numerical-object to numericals\n",
    "for col in columns:\n",
    "    Oscar93[col] = Oscar93[col].replace('[^.0-9]', '', regex=True,).astype(float).fillna(0.0)\n",
    "\n",
    "    # clean textual classes\n",
    "for col in Oscar93.select_dtypes(include='object').columns:\n",
    "    Oscar93[col] = Oscar93[col].str.upper().replace('Z_','',regex=True).replace('[^A-Z]','',regex=True)\n",
    "        \n",
    "data_types3 = {f:t for f,t in zip(Oscar93.columns,Oscar93.dtypes)}\n",
    "\n",
    "# copy df\n",
    "dp3 = Oscar93.copy()\n",
    "dp3 = dp3.drop(labels=['title'],axis=1)\n",
    "dp3 = dp3.drop(labels=['#_of_wins'],axis=1)\n",
    "\n",
    "#print(df)\n",
    "data_meta3 = pd.DataFrame(dp3.nunique(),columns=['num'],index=None).sort_values('num').reset_index()\n",
    "data_meta3.columns = ['name','num']\n",
    "data_meta3['type'] = 'numerical'\n",
    "#print(data_meta)\n",
    "\n",
    "#print(data_meta)\n",
    "\n",
    "#data_meta.loc[(data_meta['num']<=15) & (~data_meta['name'].isin(['category','name','winner'])),'type']='categorical'\n",
    "data_meta3.loc[data_meta3['name'].isin(['category','name']),'type']='categorical'\n",
    "\n",
    "categorical_features3 = list(data_meta3.loc[data_meta3['type']=='categorical','name'])\n",
    "numerical_features3 = list(data_meta3.loc[data_meta3['type']=='numerical','name'])\n",
    "#print(numerical_features)\n",
    "\n",
    "\n",
    "# Standard Scaled \"mean normalisation\"\n",
    "scaler3 = StandardScaler()\n",
    "scaler3.fit(dp3[numerical_features3])\n",
    "#print(\"Feature Means:\\t\",[f\"{x:.2}\" for x in scaler.mean_])\n",
    "numerical_data3 = scaler3.transform(dp3[numerical_features3])\n",
    "numerical_data3 = pd.DataFrame(numerical_data3,index=dp3.index,columns=numerical_features3)\n",
    "numerical_data3[:2]\n",
    "\n",
    "#print(numerical_data)\n",
    "\n",
    "scaler3 = MinMaxScaler(feature_range=(0,1))\n",
    "scaler3.fit(dp3[numerical_features3])\n",
    "numerical_data3 = scaler3.transform(dp3[numerical_features3])\n",
    "numerical_data3 = pd.DataFrame(numerical_data3,index=dp3.index,columns=numerical_features3)\n",
    "numerical_data3[:2]\n",
    "\n",
    "\n",
    "# nominal_features = [c for c in categorical_features]\n",
    "# #print(\"Nominals:\\n\",nominal_features)\n",
    "\n",
    "# nominal_data = list()\n",
    "# for i,x in df[nominal_features].nunique().iteritems():\n",
    "#     if x <= 2:\n",
    "#         nominal_data.append(pd.get_dummies(df[[i]],drop_first=True))\n",
    "#     elif x > 2:\n",
    "#         nominal_data.append(pd.get_dummies(df[[i]],drop_first=False))\n",
    "        \n",
    "#nominal_data = pd.concat(nominal_data,axis=1)\n",
    "\n",
    "# transformed and scaled dataset\n",
    "Oscar93_test = pd.concat([numerical_data3],axis=1)\n",
    "#print(f'Data min:max {Xy_scaled.min().min(),Xy_scaled.max().max()}')\n",
    "\n",
    "# original data\n",
    "Oscar93_original = dp3[numerical_features3].copy()"
   ]
  },
  {
   "cell_type": "code",
   "execution_count": 26,
   "id": "460ba82a",
   "metadata": {},
   "outputs": [],
   "source": [
    "Oscar93_test = Oscar93_test.reindex(columns=sorted(Oscar93_test.columns))\n",
    "Xy_train = Xy_train.reindex(columns=sorted(Xy_train.columns))"
   ]
  },
  {
   "cell_type": "code",
   "execution_count": 27,
   "id": "9db0a53c",
   "metadata": {},
   "outputs": [],
   "source": [
    "kmeans = KMeans(n_clusters=2, init='random').fit(Xy_train)"
   ]
  },
  {
   "cell_type": "code",
   "execution_count": 28,
   "id": "e4e26461",
   "metadata": {},
   "outputs": [
    {
     "data": {
      "text/plain": [
       "array([1, 1, 1, 1, 1, 1, 1, 1, 1, 1, 1, 1, 1, 1, 1, 1, 1, 1, 1, 1, 1, 1,\n",
       "       1, 1, 1, 1, 1, 1, 1, 1, 1, 1, 0, 1, 0])"
      ]
     },
     "execution_count": 28,
     "metadata": {},
     "output_type": "execute_result"
    }
   ],
   "source": [
    "pred3 = kmeans.predict(Oscar93_test)\n",
    "pred3"
   ]
  },
  {
   "cell_type": "code",
   "execution_count": 29,
   "id": "4123cdda",
   "metadata": {},
   "outputs": [],
   "source": [
    "Oscar93_y = Oscar93['#_of_wins']\n",
    "Oy_train = []\n",
    "for i in range(len(Oscar93_y)):\n",
    "    if Oscar93_y[i]==0:\n",
    "        Oy_train.append(0)\n",
    "    else:\n",
    "        Oy_train.append(1)"
   ]
  },
  {
   "cell_type": "markdown",
   "id": "abfac2d0",
   "metadata": {},
   "source": [
    "##### Calculating F1-Score"
   ]
  },
  {
   "cell_type": "code",
   "execution_count": 30,
   "id": "e3d5b048",
   "metadata": {},
   "outputs": [
    {
     "name": "stdout",
     "output_type": "stream",
     "text": [
      "binary F1 score:  0.4651162790697675\n"
     ]
    }
   ],
   "source": [
    "binary = f1_score(Oy_train, pred3, average='binary')\n",
    "print('binary F1 score: ',binary)"
   ]
  },
  {
   "cell_type": "code",
   "execution_count": 31,
   "id": "5079a46a",
   "metadata": {},
   "outputs": [
    {
     "data": {
      "image/png": "[encoded data removed]",
      "text/plain": [
       "<Figure size 432x288 with 2 Axes>"
      ]
     },
     "metadata": {
      "needs_background": "light"
     },
     "output_type": "display_data"
    }
   ],
   "source": [
    "clf = SVC(random_state=0)\n",
    "clf.fit(Xy_train, y_train2)\n",
    "\n",
    "SVC(random_state=0)\n",
    "predictions = clf.predict(Oscar93_test)\n",
    "cm2 = confusion_matrix(Oy_train, pred3, labels=clf.classes_)\n",
    "disp = ConfusionMatrixDisplay(confusion_matrix=cm2,display_labels=clf.classes_)\n",
    "disp.plot()\n",
    "\n",
    "plt.show()"
   ]
  },
  {
   "cell_type": "code",
   "execution_count": 32,
   "id": "2597aa60",
   "metadata": {},
   "outputs": [
    {
     "data": {
      "text/plain": [
       "0.34285714285714286"
      ]
     },
     "execution_count": 32,
     "metadata": {},
     "output_type": "execute_result"
    }
   ],
   "source": [
    "sklearn.metrics.accuracy_score(Oy_train, pred3)"
   ]
  },
  {
   "cell_type": "markdown",
   "id": "867e5c9c",
   "metadata": {},
   "source": [
    "# Method 2 with PCA"
   ]
  },
  {
   "cell_type": "code",
   "execution_count": 33,
   "id": "de125cf2",
   "metadata": {},
   "outputs": [
    {
     "name": "stdout",
     "output_type": "stream",
     "text": [
      "Explained variation per principal component: [0.36140031 0.32681626]\n",
      "Cumulative variance explained by 2 principal components: 68.82%\n"
     ]
    }
   ],
   "source": [
    "#reducing dimension using PCA.\n",
    "#calculates the % of the data we still have of our original\n",
    "pca_O = PCA(n_components=2)\n",
    "pca_Oresult=pca_O.fit_transform(Oscar93_test)\n",
    "print('Explained variation per principal component: {}'.format(pca_O.explained_variance_ratio_))\n",
    "print('Cumulative variance explained by 2 principal components: {:.2%}'.format(np.sum(pca_O.explained_variance_ratio_)))"
   ]
  },
  {
   "cell_type": "code",
   "execution_count": 34,
   "id": "f8baf591",
   "metadata": {},
   "outputs": [
    {
     "data": {
      "text/plain": [
       "KMeans(init='random', n_clusters=2)"
      ]
     },
     "execution_count": 34,
     "metadata": {},
     "output_type": "execute_result"
    }
   ],
   "source": [
    "kmeans = KMeans(n_clusters= 2,init=\"random\")\n",
    "kmeans.fit(pca_2result)"
   ]
  },
  {
   "cell_type": "code",
   "execution_count": 35,
   "id": "cea7b6b8",
   "metadata": {},
   "outputs": [],
   "source": [
    "pred_O = kmeans.predict(pca_Oresult)"
   ]
  },
  {
   "cell_type": "markdown",
   "id": "f648327f",
   "metadata": {},
   "source": [
    "##### Calculating F-1 Score"
   ]
  },
  {
   "cell_type": "code",
   "execution_count": 36,
   "id": "e60811ba",
   "metadata": {},
   "outputs": [
    {
     "name": "stdout",
     "output_type": "stream",
     "text": [
      "binary F1 score:  0.18749999999999997\n"
     ]
    }
   ],
   "source": [
    "binary = f1_score(Oy_train, pred_O, average='binary')\n",
    "\n",
    "print('binary F1 score: ',binary)"
   ]
  },
  {
   "cell_type": "code",
   "execution_count": 37,
   "id": "f9867c5d",
   "metadata": {},
   "outputs": [
    {
     "data": {
      "image/png": "[encoded data removed]",
      "text/plain": [
       "<Figure size 432x288 with 2 Axes>"
      ]
     },
     "metadata": {
      "needs_background": "light"
     },
     "output_type": "display_data"
    }
   ],
   "source": [
    "clf = SVC(random_state=0)\n",
    "clf.fit(pca_2result, y_train2)\n",
    "\n",
    "SVC(random_state=0)\n",
    "predictions = clf.predict(pca_Oresult)\n",
    "cm2 = confusion_matrix(Oy_train, pred_O, labels=clf.classes_)\n",
    "disp = ConfusionMatrixDisplay(confusion_matrix=cm2,display_labels=clf.classes_)\n",
    "disp.plot()\n",
    "\n",
    "plt.show()"
   ]
  },
  {
   "cell_type": "markdown",
   "id": "1618bc71",
   "metadata": {},
   "source": [
    "##### Accuracy"
   ]
  },
  {
   "cell_type": "code",
   "execution_count": 38,
   "id": "5404c179",
   "metadata": {},
   "outputs": [
    {
     "data": {
      "text/plain": [
       "0.2571428571428571"
      ]
     },
     "execution_count": 38,
     "metadata": {},
     "output_type": "execute_result"
    }
   ],
   "source": [
    "sklearn.metrics.accuracy_score(Oy_train, pred_O)"
   ]
  },
  {
   "cell_type": "markdown",
   "id": "f5b0f7d7",
   "metadata": {},
   "source": [
    "# Method 3 without PCA"
   ]
  },
  {
   "cell_type": "code",
   "execution_count": 44,
   "id": "aac91502",
   "metadata": {},
   "outputs": [],
   "source": [
    "raw2 = pd.read_csv('cleaned.csv')\n",
    "\n",
    "le = preprocessing.LabelEncoder()\n",
    "titles5 = list(raw2['title'])\n",
    "le.fit(titles5)\n",
    "encoded_titles5 = le.transform(titles5)\n",
    "raw2['title'] = encoded_titles5\n",
    "\n",
    "# example of a normalization\n",
    "columns = ['title','runtime', 'imdb_score', 'imdb_votes', 'user_review_count', 'critic_review_count','critic_overall_score','critic_positive_score','critic_mixed_score','critic_negative_score','user_overall_score','user_positive_score','user_mixed_score','user_negative_score','#_of_nominations','#_of_wins']\n",
    "\n",
    "# convert numerical-object to numericals\n",
    "for col in columns:\n",
    "    raw2[col] = raw2[col].replace('[^.0-9]', '', regex=True,).astype(float).fillna(0.0)\n",
    "\n",
    "    # clean textual classes\n",
    "for col in raw2.select_dtypes(include='object').columns:\n",
    "        raw2[col] = raw2[col].str.upper().replace('Z_','',regex=True).replace('[^A-Z]','',regex=True)\n",
    "        \n",
    "data_types5 = {f:t for f,t in zip(raw.columns,raw.dtypes)}\n",
    "\n",
    "# copy df\n",
    "df5 = raw2.copy()\n",
    "df5 = df5.drop(labels=['title'],axis=1)\n",
    "df5 = df5.drop(labels=['#_of_wins'],axis=1)\n",
    "\n",
    "data_meta5 = pd.DataFrame(df5.nunique(),columns=['num'],index=None).sort_values('num').reset_index()\n",
    "data_meta5.columns = ['name','num']\n",
    "data_meta5['type'] = 'numerical'\n",
    "#print(data_meta)\n",
    "\n",
    "\n",
    "#data_meta.loc[(data_meta['num']<=15) & (~data_meta['name'].isin(['category','name','winner'])),'type']='categorical'\n",
    "data_meta5.loc[data_meta5['name'].isin(['category','name']),'type']='categorical'\n",
    "\n",
    "categorical_features5 = list(data_meta5.loc[data_meta5['type']=='categorical','name'])\n",
    "numerical_features5 = list(data_meta5.loc[data_meta5['type']=='numerical','name'])\n",
    "#print(numerical_features)\n",
    "\n",
    "\n",
    "# Standard Scaled \"mean normalisation\"\n",
    "scaler5 = StandardScaler()\n",
    "scaler5.fit(df5[numerical_features5])\n",
    "#print(\"Feature Means:\\t\",[f\"{x:.2}\" for x in scaler.mean_])\n",
    "numerical_data5 = scaler5.transform(df5[numerical_features5])\n",
    "numerical_data5 = pd.DataFrame(numerical_data5,index=df5.index,columns=numerical_features5)\n",
    "numerical_data5[:2]\n",
    "\n",
    "\n",
    "\n",
    "scaler5 = MinMaxScaler(feature_range=(0,1))\n",
    "scaler5.fit(df5[numerical_features5])\n",
    "numerical_data5 = scaler5.transform(df5[numerical_features5])\n",
    "numerical_data5 = pd.DataFrame(numerical_data5,index=df5.index,columns=numerical_features5)\n",
    "numerical_data5[:2]\n",
    "\n",
    "\n",
    "# nominal_features5 = [c for c in categorical_features]\n",
    "# #print(\"Nominals:\\n\",nominal_features)\n",
    "\n",
    "# nominal_data = list()\n",
    "# for i,x in df[nominal_features].nunique().iteritems():\n",
    "#     if x <= 2:\n",
    "#         nominal_data.append(pd.get_dummies(df[[i]],drop_first=True))\n",
    "#     elif x > 2:\n",
    "#         nominal_data.append(pd.get_dummies(df[[i]],drop_first=False))\n",
    "        \n",
    "#nominal_data = pd.concat(nominal_data,axis=1)\n",
    "\n",
    "# transformed and scaled dataset\n",
    "Xy_scaled_M3 = pd.concat([numerical_data5],axis=1)\n",
    "#print(f'Data min:max {Xy_scaled.min().min(),Xy_scaled.max().max()}')\n",
    "\n",
    "# original data\n",
    "Xy_original_M3 = df5[numerical_features5].copy()"
   ]
  },
  {
   "cell_type": "code",
   "execution_count": 45,
   "id": "e899313e",
   "metadata": {},
   "outputs": [],
   "source": [
    "#Match the column index\n",
    "Xy_M3 = Xy_scaled_M3.reindex(columns=sorted(Xy_scaled_M3.columns))\n",
    "Oscar93_test = Oscar93_test.reindex(columns=sorted(Oscar93_test.columns))"
   ]
  },
  {
   "cell_type": "code",
   "execution_count": 46,
   "id": "8c8979fa",
   "metadata": {},
   "outputs": [],
   "source": [
    "kmeans = KMeans(n_clusters=2, init='random').fit(Xy_M3)"
   ]
  },
  {
   "cell_type": "code",
   "execution_count": 47,
   "id": "5b72904d",
   "metadata": {},
   "outputs": [],
   "source": [
    "pred = kmeans.predict(Oscar93_test)"
   ]
  },
  {
   "cell_type": "code",
   "execution_count": 48,
   "id": "60fd5fe8",
   "metadata": {},
   "outputs": [],
   "source": [
    "Xy_M3_train = raw2.copy()\n",
    "Xy_M3_train = Xy_M3_train['#_of_wins']\n",
    "Xy_M3_train = np.array(Xy_M3_train)\n",
    "Xy_M3_train_y =[]\n",
    "for i in range(len(Xy_M3_train)):\n",
    "    if Xy_M3_train[i]==0:\n",
    "        Xy_M3_train_y.append(0)\n",
    "    else:\n",
    "        Xy_M3_train_y.append(1)"
   ]
  },
  {
   "cell_type": "markdown",
   "id": "008c8070",
   "metadata": {},
   "source": [
    "##### Calculating F-1 Score"
   ]
  },
  {
   "cell_type": "code",
   "execution_count": 49,
   "id": "7f4644a4",
   "metadata": {},
   "outputs": [
    {
     "name": "stdout",
     "output_type": "stream",
     "text": [
      "binary F1 score:  0.4651162790697675\n"
     ]
    }
   ],
   "source": [
    "binary = f1_score(Oy_train, pred, average='binary')\n",
    "\n",
    "print('binary F1 score: ',binary)"
   ]
  },
  {
   "cell_type": "code",
   "execution_count": 50,
   "id": "4fa31d68",
   "metadata": {},
   "outputs": [
    {
     "data": {
      "image/png": "[encoded data removed]",
      "text/plain": [
       "<Figure size 432x288 with 2 Axes>"
      ]
     },
     "metadata": {
      "needs_background": "light"
     },
     "output_type": "display_data"
    }
   ],
   "source": [
    "clf = SVC(random_state=0)\n",
    "clf.fit(Xy_M3, Xy_M3_train_y)\n",
    "\n",
    "SVC(random_state=0)\n",
    "predictions = clf.predict(Oscar93_test)\n",
    "cm2 = confusion_matrix(Oy_train, pred, labels=clf.classes_)\n",
    "disp = ConfusionMatrixDisplay(confusion_matrix=cm2,display_labels=clf.classes_)\n",
    "disp.plot()\n",
    "\n",
    "plt.show()"
   ]
  },
  {
   "cell_type": "code",
   "execution_count": 51,
   "id": "77f789f5",
   "metadata": {},
   "outputs": [
    {
     "data": {
      "text/plain": [
       "0.34285714285714286"
      ]
     },
     "execution_count": 51,
     "metadata": {},
     "output_type": "execute_result"
    }
   ],
   "source": [
    "sklearn.metrics.accuracy_score(Oy_train, pred)"
   ]
  },
  {
   "cell_type": "markdown",
   "id": "343653e8",
   "metadata": {},
   "source": [
    "# Method 3 with PCA"
   ]
  },
  {
   "cell_type": "code",
   "execution_count": 52,
   "id": "1e0010a9",
   "metadata": {},
   "outputs": [
    {
     "name": "stdout",
     "output_type": "stream",
     "text": [
      "Explained variation per principal component: [0.44986421 0.19022574]\n",
      "Cumulative variance explained by 2 principal components: 64.01%\n"
     ]
    }
   ],
   "source": [
    "#reducing dimension using PCA.\n",
    "#calculates the % of the data we still have of our original\n",
    "pca_6 = PCA(n_components=2)\n",
    "pca_6result=pca_6.fit_transform(Xy_M3)\n",
    "print('Explained variation per principal component: {}'.format(pca_6.explained_variance_ratio_))\n",
    "print('Cumulative variance explained by 2 principal components: {:.2%}'.format(np.sum(pca_6.explained_variance_ratio_)))"
   ]
  },
  {
   "cell_type": "code",
   "execution_count": 54,
   "id": "575b5162",
   "metadata": {},
   "outputs": [
    {
     "data": {
      "text/plain": [
       "KMeans(init='random', n_clusters=2)"
      ]
     },
     "execution_count": 54,
     "metadata": {},
     "output_type": "execute_result"
    }
   ],
   "source": [
    "kmeans = KMeans(n_clusters= 2,init=\"random\")\n",
    "kmeans.fit(pca_6result)"
   ]
  },
  {
   "cell_type": "code",
   "execution_count": 55,
   "id": "f5f8ab68",
   "metadata": {},
   "outputs": [],
   "source": [
    "pred2 = kmeans.predict(pca_Oresult)"
   ]
  },
  {
   "cell_type": "code",
   "execution_count": 56,
   "id": "446d7a12",
   "metadata": {},
   "outputs": [
    {
     "name": "stdout",
     "output_type": "stream",
     "text": [
      "binary F1 score:  0.18749999999999997\n"
     ]
    }
   ],
   "source": [
    "binary = f1_score(Oy_train, pred2, average='binary')\n",
    "\n",
    "print('binary F1 score: ',binary)"
   ]
  },
  {
   "cell_type": "code",
   "execution_count": 58,
   "id": "e0d65675",
   "metadata": {},
   "outputs": [
    {
     "data": {
      "image/png": "[encoded data removed]",
      "text/plain": [
       "<Figure size 432x288 with 2 Axes>"
      ]
     },
     "metadata": {
      "needs_background": "light"
     },
     "output_type": "display_data"
    }
   ],
   "source": [
    "clf = SVC(random_state=0)\n",
    "clf.fit(pca_6result, Xy_M3_train_y)\n",
    "\n",
    "SVC(random_state=0)\n",
    "predictions = clf.predict(pca_Oresult)\n",
    "cm2 = confusion_matrix(Oy_train, pred2, labels=clf.classes_)\n",
    "disp = ConfusionMatrixDisplay(confusion_matrix=cm2,display_labels=clf.classes_)\n",
    "disp.plot()\n",
    "\n",
    "plt.show()"
   ]
  },
  {
   "cell_type": "code",
   "execution_count": 59,
   "id": "6e779bd1",
   "metadata": {},
   "outputs": [
    {
     "data": {
      "text/plain": [
       "0.2571428571428571"
      ]
     },
     "execution_count": 59,
     "metadata": {},
     "output_type": "execute_result"
    }
   ],
   "source": [
    "sklearn.metrics.accuracy_score(Oy_train, pred2)"
   ]
  },
  {
   "cell_type": "code",
   "execution_count": null,
   "id": "0c929680",
   "metadata": {},
   "outputs": [],
   "source": []
  }
 ],
 "metadata": {
  "anaconda-cloud": {},
  "kernelspec": {
   "display_name": "Python 3",
   "language": "python",
   "name": "python3"
  },
  "language_info": {
   "codemirror_mode": {
    "name": "ipython",
    "version": 3
   },
   "file_extension": ".py",
   "mimetype": "text/x-python",
   "name": "python",
   "nbconvert_exporter": "python",
   "pygments_lexer": "ipython3",
   "version": "3.8.8"
  }
 },
 "nbformat": 4,
 "nbformat_minor": 5
}
