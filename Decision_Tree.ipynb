{
 "cells": [
  {
   "cell_type": "code",
   "execution_count": 85,
   "id": "77d5e45b",
   "metadata": {},
   "outputs": [],
   "source": [
    "import pandas as pd\n",
    "from sklearn import tree\n",
    "from sklearn.model_selection import train_test_split\n",
    "from sklearn.metrics import accuracy_score\n",
    "from sklearn.metrics import confusion_matrix\n",
    "from sklearn.metrics import ConfusionMatrixDisplay\n",
    "import matplotlib.pyplot as plt"
   ]
  },
  {
   "cell_type": "code",
   "execution_count": 86,
   "id": "7de2aeef",
   "metadata": {},
   "outputs": [
    {
     "data": {
      "text/plain": [
       "0.7095808383233533"
      ]
     },
     "execution_count": 86,
     "metadata": {},
     "output_type": "execute_result"
    },
    {
     "data": {
      "image/png": "[encoded data removed]",
      "text/plain": [
       "<Figure size 432x288 with 2 Axes>"
      ]
     },
     "metadata": {
      "needs_background": "light"
     },
     "output_type": "display_data"
    }
   ],
   "source": [
    "# Prepare the data\n",
    "df = pd.read_csv(\"cleaned.csv\")\n",
    "\n",
    "df[\"#_of_wins\"] = df[\"#_of_wins\"].apply(lambda x : 1 if (x >= 1) else 0)\n",
    "variable_columns = [c for c in df.columns if c not in \"#_of_wins, title\"]\n",
    "\n",
    "X = df.loc[:, variable_columns]\n",
    "y = df.loc[:, \"#_of_wins\"]\n",
    "X_train, X_test, y_train, y_test = train_test_split(X, y, test_size=0.25, random_state=38)\n",
    "\n",
    "clf = tree.DecisionTreeClassifier(class_weight=\"balanced\")\n",
    "clf.fit(X_train, y_train)\n",
    "\n",
    "y_train_pred = clf.predict(X_train)\n",
    "y_test_pred = clf.predict(X_test)\n",
    "\n",
    "cm = confusion_matrix(y_test, y_test_pred)\n",
    "ConfusionMatrixDisplay.from_predictions(y_test, y_test_pred)\n",
    "\n",
    "accuracy_score(y_test_pred, y_test)"
   ]
  },
  {
   "cell_type": "code",
   "execution_count": null,
   "id": "95c25434",
   "metadata": {},
   "outputs": [],
   "source": []
  },
  {
   "cell_type": "code",
   "execution_count": null,
   "id": "afbb65d7",
   "metadata": {},
   "outputs": [],
   "source": []
  }
 ],
 "metadata": {
  "kernelspec": {
   "display_name": "Python 3 (ipykernel)",
   "language": "python",
   "name": "python3"
  },
  "language_info": {
   "codemirror_mode": {
    "name": "ipython",
    "version": 3
   },
   "file_extension": ".py",
   "mimetype": "text/x-python",
   "name": "python",
   "nbconvert_exporter": "python",
   "pygments_lexer": "ipython3",
   "version": "3.9.10"
  }
 },
 "nbformat": 4,
 "nbformat_minor": 5
}
